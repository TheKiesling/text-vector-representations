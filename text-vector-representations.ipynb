{
 "cells": [
  {
   "cell_type": "markdown",
   "id": "242264a7",
   "metadata": {},
   "source": [
    "# Text Vector Representations"
   ]
  },
  {
   "cell_type": "markdown",
   "id": "a4ce3a1c",
   "metadata": {},
   "source": [
    "### José Pablo Kiesling Lange"
   ]
  },
  {
   "cell_type": "code",
   "execution_count": 1,
   "id": "a02e67d2",
   "metadata": {},
   "outputs": [],
   "source": [
    "from pprint import pprint\n",
    "import numpy as np\n",
    "import random\n",
    "from collections import defaultdict, Counter\n",
    "import pandas as pd\n",
    "\n",
    "import nltk\n",
    "from nltk.tokenize import word_tokenize\n",
    "\n",
    "from sklearn.datasets import fetch_20newsgroups\n",
    "from sklearn.feature_extraction.text import TfidfVectorizer\n",
    "from sklearn.model_selection import train_test_split\n",
    "from sklearn.linear_model import LogisticRegression\n",
    "from sklearn.metrics import accuracy_score\n",
    "\n",
    "from gensim.models import Word2Vec"
   ]
  },
  {
   "cell_type": "code",
   "execution_count": 2,
   "id": "783880b2",
   "metadata": {},
   "outputs": [
    {
     "name": "stderr",
     "output_type": "stream",
     "text": [
      "[nltk_data] Downloading package punkt to\n",
      "[nltk_data]     C:\\Users\\TheKi\\AppData\\Roaming\\nltk_data...\n",
      "[nltk_data]   Package punkt is already up-to-date!\n"
     ]
    },
    {
     "data": {
      "text/plain": [
       "True"
      ]
     },
     "execution_count": 2,
     "metadata": {},
     "output_type": "execute_result"
    }
   ],
   "source": [
    "nltk.download('punkt')"
   ]
  },
  {
   "cell_type": "markdown",
   "id": "04594e63",
   "metadata": {},
   "source": [
    "Según la documentación del dataset ([sklearn.datasets.fetch_20newsgroups](https://scikit-learn.org/0.19/modules/generated/sklearn.datasets.fetch_20newsgroups.html#sklearn.datasets.fetch_20newsgroups)) hay parámetros los cuales se pueden usar estratégicamente antes del procesamiento y ahorrar operaciones. Para delimitar las categorías indicadas en el laboratorio, se tienen que encontrar."
   ]
  },
  {
   "cell_type": "code",
   "execution_count": 3,
   "id": "67e712c3",
   "metadata": {},
   "outputs": [],
   "source": [
    "newsgroups_train = fetch_20newsgroups(subset='all')"
   ]
  },
  {
   "cell_type": "code",
   "execution_count": 4,
   "id": "3d5b892e",
   "metadata": {},
   "outputs": [
    {
     "name": "stdout",
     "output_type": "stream",
     "text": [
      "['alt.atheism',\n",
      " 'comp.graphics',\n",
      " 'comp.os.ms-windows.misc',\n",
      " 'comp.sys.ibm.pc.hardware',\n",
      " 'comp.sys.mac.hardware',\n",
      " 'comp.windows.x',\n",
      " 'misc.forsale',\n",
      " 'rec.autos',\n",
      " 'rec.motorcycles',\n",
      " 'rec.sport.baseball',\n",
      " 'rec.sport.hockey',\n",
      " 'sci.crypt',\n",
      " 'sci.electronics',\n",
      " 'sci.med',\n",
      " 'sci.space',\n",
      " 'soc.religion.christian',\n",
      " 'talk.politics.guns',\n",
      " 'talk.politics.mideast',\n",
      " 'talk.politics.misc',\n",
      " 'talk.religion.misc']\n"
     ]
    }
   ],
   "source": [
    "pprint(list(newsgroups_train.target_names))"
   ]
  },
  {
   "cell_type": "code",
   "execution_count": 5,
   "id": "0d29a262",
   "metadata": {},
   "outputs": [],
   "source": [
    "categories = [\n",
    "    \"talk.politics.guns\",\n",
    "    \"talk.politics.mideast\",\n",
    "    \"talk.politics.misc\",\n",
    "    \"rec.autos\",\n",
    "]"
   ]
  },
  {
   "cell_type": "code",
   "execution_count": 6,
   "id": "5e975a82",
   "metadata": {},
   "outputs": [
    {
     "data": {
      "text/plain": [
       "\"From: Mamatha Devineni Ratnam <mr47+@andrew.cmu.edu>\\nSubject: Pens fans reactions\\nOrganization: Post Office, Carnegie Mellon, Pittsburgh, PA\\nLines: 12\\nNNTP-Posting-Host: po4.andrew.cmu.edu\\n\\n\\n\\nI am sure some bashers of Pens fans are pretty confused about the lack\\nof any kind of posts about the recent Pens massacre of the Devils. Actually,\\nI am  bit puzzled too and a bit relieved. However, I am going to put an end\\nto non-PIttsburghers' relief with a bit of praise for the Pens. Man, they\\nare killing those Devils worse than I thought. Jagr just showed you why\\nhe is much better than his regular season stats. He is also a lot\\nfo fun to watch in the playoffs. Bowman should let JAgr have a lot of\\nfun in the next couple of games since the Pens are going to beat the pulp out of Jersey anyway. I was very disappointed not to see the Islanders lose the final\\nregular season game.          PENS RULE!!!\\n\\n\""
      ]
     },
     "execution_count": 6,
     "metadata": {},
     "output_type": "execute_result"
    }
   ],
   "source": [
    "newsgroups_train.data[0]"
   ]
  },
  {
   "cell_type": "markdown",
   "id": "5d053515",
   "metadata": {},
   "source": [
    "Además, como se puede ver, los elementos del dataset son correos, por lo que se puede hacer uso del parámetro `remove` para eliminar las líneas no deseadas y quedarnos solo con el cuerpo del mensaje. Esta decisión se toma ya que no se quiere que el modelo entienda que la palabra \"From:\" y un correo tienen relación."
   ]
  },
  {
   "cell_type": "code",
   "execution_count": 7,
   "id": "7346c757",
   "metadata": {},
   "outputs": [],
   "source": [
    "remove_content = (\n",
    "    \"headers\",\n",
    "    \"footers\",\n",
    "    \"quotes\",\n",
    ")"
   ]
  },
  {
   "cell_type": "code",
   "execution_count": 8,
   "id": "7631b2c9",
   "metadata": {},
   "outputs": [],
   "source": [
    "dataset = fetch_20newsgroups(subset=\"all\", categories=categories, remove=remove_content)"
   ]
  },
  {
   "cell_type": "code",
   "execution_count": 9,
   "id": "d596dd2b",
   "metadata": {},
   "outputs": [],
   "source": [
    "corpus = dataset.data"
   ]
  },
  {
   "cell_type": "code",
   "execution_count": 10,
   "id": "27619db9",
   "metadata": {},
   "outputs": [
    {
     "data": {
      "text/plain": [
       "['\\n+>Critisism is too easy. What solutions do people have that  would have been\\n+>better than what the FBI had been doing for the last few months?\\n\\n\\nAfter the seige began:\\n\\nSurround the place with Razor wire and then let them sit.  Do not\\nhave daily press conferences, do your best to keep things out of\\nthe press.\\n\\n\\nAs things get more and more miserable inside, one of two things is\\ngoing to happen:\\n\\n\\t1. People will start coming out.\\n\\n\\t2. They will commit suicide in mass at some point.\\n\\n\\nThe thing to remember about (2) is that hysterical situations and \"assults\"\\nplay into the hands of a \"leader\" who has picked this course.   Its\\nmuch easier to stampede people into something like suicide if there\\nis gas coming in and bullets in the air.  Let them be hungry and miserable\\nfor longer and longer and it will probably be more effective.\\n\\n\\tThe \"possiblity\" that they would all kill themselves at some\\npoint would not bother me in the least or alter tactics.  If people\\nare going to take their own lives, the best you can probably do is\\nprevent yourself from giving them the opportunity or an excuse to\\ndo it.',\n",
       " '\\n\\n\\n\\n   Granted.  Pomeroy, Bell, Weinberg, 1967.  \"National Institute of\\nMental Health Paper 12353, \\'\\'Patterns of Adjusment in Deviant\\nPopulations.\\'\\'\"  Cited as part of the National Institute of Mental\\nHealth Task Force on Homosexuality.\\n\\n   Pomery concluded, \"The Kinsey statistic of 37% is probably higher\\nthan is realistic.  According to these estimates, 33% is a more\\nrealistic figure.\"\\n\\n   (I went out and bought LOTS of Bell & Weinberg this weekend... can\\nyou tell?)\\n\\n   Also, The Janus Report on Sexual Behavior (Samuel S. Janus, Ph.D.\\nand Cynthia L. Janus, M.D., John Wiley & Sons (pub), 1992) has the\\nfollowing:\\n\\nTable 3.14\\nHave you ever had a homosexual experience?\\n          Men.    Women.\\nN=        1,335   1,384\\nYes       22%      17%\\nNo        78%      83%\\n\\nTable 3.15\\nHow often have you had homosexual contact?\\n                      Men   Women\\nN=                    294     235\\na. Once                5%      6%\\nb. Occasionally       56%     67%\\nc. Frequently         13%      6%\\nd. Ongoing            26%     21%\\n\\nActive (c. + d.)      39%     37%\\n\\n39% of 22% is 9%.  This number is consistent with Kinsey, Pomery,\\nGebard (1953), Bell & Weinberg (1967, 1974), and Rice (1987) in the\\nfinding that 9% of the male population is actively homosexual, with\\nan further breakdown (Bell & Wienberg, 1978) of 4% exclusively so and\\n5% self-identifying themselves as \"bisexuals.\"\\n\\n   (pp 69, 70)\\n\\n   As for debunking Kinsey, the following article is an important\\nlesson for everyone to read:\\n\\nWas Kinsey a Fake and a Pervert?\\nby Philip Nobile\\n\\n     Far out on the grassy knoll of sexology, there is a cult of\\nprochastity researchers who claim that the late Alfred Kinsey was a\\nsecret sex criminal, a Hoosier Dr. Mengele, who bent his numbers\\ntoward the bisexual and the bizarre in a grand conspiracy to queer the\\nnation and usher in an era of free sex with kids.  \\n\\n     But what really riles these critics is Kinsey\\'s towerin~ cultural\\ninfluence.  His bestselling surveys-- Sexual Behavior in the Human Male\\n(1948) and Sexual Behavior in the Human Female (1953)-- tore the\\nsheets off the country\\'s erogenous zones and undermined midcentury\\nmorals.  His charts and graphs, based on detailed histories of 12,000\\nmen and women, demonstrated that practices generally considered rare\\nand/or \\'abnormal\\'-- masturbation, extramarital relations,\\nhomosexuality, and even barnyard bestiality, were as American as\\nstrawberry shortcake.  \\n\\n     Yet for a hard core of these heterosexual supremacists, aided and\\nabetted by Pat Buchanan and the religious right, the zoology professor\\nfrom Indiana University remains the evil genius behind the sex\\nrevolution and a target for character assassination.  \\n\\n     Judith Reisman, the prosecution\\'s expert witness at the\\nMapplethorpe trial in Cincinnati, is the leader of the anti- Kinsey\\nrevisionists as well as his Inspector Javert.  In 1983, during a radio\\ninterview with Pat Buchanan in Washington, Reisman accused Kinsey of\\nhaving been inolved in \"the vicious genital torture of hundreds of\\nchildren.\"  She speculated that he kidnapped and drugged ghetto boys in\\norder to carry out clandestine orgasm tests.  \\n\\n     Now, seven years later, Reisman has revived her charges in a\\ndifferent book, titled Kinsey, Sex and Fraud, just released by the\\nsmall and religiously oriented Huntington House in Lafayette,\\nLouisiana.  Her coauthor is Ed Eichel, a Manhattan psychotherapist who\\nhas invented a new style of intromission (\"the coital alignment\\ntechnique\") that supposedly triggers simultaneous orgasm with\\nconsiderable regularity and thereby increases compatibilty between the\\nsexes.  In the book Eichel contends that \"Kinsey deliberately cooked\\nthe gay stats because, being an oddball himself, he wanted to advance\\nthe \\'denormalization\\' of heterosexuality.\"  \\n\\n     If the authors are right, then the world- famous Kinsey Reports\\nare, as the introduction boldly asserts, \"the most egregious example\\nof scientific deception in this century.\"  And if they are wrong,\\nKinsey, Sex and Fraud is a shameful smear.\\n\\n     Despite the less- than- stellar credentials of Kinsey\\'s\\ndetractors, legends are not what they used to be.  Martin Luther King\\nmay have committed plagiarism.  Bruno Bettelheim slapped young mental\\npatients around.  Father Bruce Ritter, the founder of Covenant House,\\npreyed on runaway boys.  Closer to Kinsey, Masters and Johnson have\\nbeen disgraced for faking it in one way or another.  \\n\\n     So it should not surprise anybody that Kinsey, who filmed strange\\npeople having sex in his attic, may have had skeletons in the closet.\\nThe problem is that Reisman does not seem to have the intellectual\\nprowess to pull off the job.  \\n\\n     As a thinker, the woman is no Madame Curie.  The 55-year-old\\nformer songwriter for Captain Kangaroo has little professional\\nstanding, no current university position, and no peer-review\\npublications, though her creative 1983 resume was padded with phantom\\naccomplishments.  For instance, it listed a book as her own-- Take Back\\nthe Night: Women on Pornography-- that was actually written and edited\\nby others.  Then there is her Ph.D. in Speech Communication from\\nCleveland\\'s Case Western Reserve University.  Although Reisman has no\\nbachelor\\'s degree, Case granted her a master\\'s in 1976 and a doctorate\\nin 1979.  Her dissertation was on the commentaries of a local\\noctagenarian TV commentator.  But on the resume, Reisman gave this\\npiece of scholarship a fancy Hautes Etudes moniker-- to wit: \"The\\nApplication of Aristotelian and Systems Analytic Theory to Mass Media\\nEffects.\"\\n\\n     When Reisman burst into prominence on Buchanan\\'s program, it was\\nlove at first sight for Al Regnery, the outwardly anti- \\nporn head of Juvenile Justice and Delinquency Prevention in Ed Meese\\'s\\nJustice Department.  Regnery was a young law-and-order conservative and\\namateur social philosopher who wanted to help change the sexual\\nclimate of the United States.  \\n\\n     After Reisman\\'s sensational radio session, the sexual equivalent\\nof Joe McCarthy\\'s Wheeling speech, Regnery summoned \\nher to meetings to discuss mutual interests.  First he tried to shovel\\nher $800,000 for a quasi-Frankenstein study that was going to measure\\nthe brain chemicals of men and boys who looked at arousing\\nphotographs.  Guffaws on Capitol Hill killed the original proposal, but\\n$734,000 in govemment money went to Reisman anyway for plan B- a probe\\nof child images in the cartoons Playboy, Penthouse, and Hust\\nler.  (Incredibly, this grant surpassed the entire budget of the\\nattorney general\\'s pornography commission.) \\n\\n     When the overpriced and oversold project was completed in 1986,\\nit was immediately shelved by an embarrassed Justice Department.  That\\nspring, Regnery resigned from his post only days before the New\\nRepublic carried this admission that he had kept porno magazines\\naround the house.  \\n\\n     Notwithstanding the six-figure humiliation, Reisman went on to\\nscratch out a niche on the ioony right.  As the darling of the sex\\ncranks, she deplores subversive phenomena like shaved genitalia in\\nmen\\'s magazines and blames AIDS on gays.  Kinsey, Sex and Fraud is\\nReisman\\'s latest grasp for respectability.  Pat Buchanan, of course, is\\nputting his Krugerrands on Reisman\\'s ultimate vindication.  \"This book\\nis social dynamite,\" he says in a blurb an the front cover.  He\\nespecially liked the antigay parts.  Smacking his lips in his\\nsyndicated column, he declared, \"It may just blow the sewer cap off\\nKinsey\\'s monumental reputation, reestablish homosexuality as a 1-in-50\\naberration, expose the Gay Rights movement as a paper tiger, and even\\nput at risk the enormous sex industry built upon Dr. Kinsey\\'s\\n\\'research.\\'\"\\n\\n     The blockbuster charge at the heart of the cluttered and\\nrepetilive j\\'Accuse is that Kinsey was a sex-mad pedophile who\\nmolested little boys in Nazi-type experiments and recorded their\\norgasms in his male volume/ A similar charge was first recited at the\\nFifth World Conference on Sexology in Jerusalem in 1981 to no effect\\nbefore being recycled by Reisman for Buchanan in Washington in 1983.\\n\\n     Here is how Reisman and Eichel repackaged the Mengele business in\\nKinsey, Sex and Fraud:\\n\\n     Mengele-like \\'scientific\\' experiments on infants and children\\nwere the basis for Kinsey\\'s conclusions...  on childhood sexuality.\\n\\n     Somewhere and sometime in the course of the project, Kinsey\\nappears to have directed experimental sex research on several hundred\\nchildren aged from two months to almost 15 years.\\n\\n     This, of course, would implicate Kinsey and his team in\\npromoting, and perhaps participating in, the criminal activity.\\n\\n     In the opinion of this book\\'s authors, that is exactly how part\\nof Kinsey\\'s child sexuality research took place.\\n\\n\\n     Donning his psychohistorian\\'s cap and citing an FBI manual on\\nchild molesters as a guide, Eichel casually diagnoses Kinsey as a\\nhomosexual pedophile with the perfect motive for doing exactly as\\n \\n\\n     [Kinsey] placed himself in professional and nonprofessional\\npositions where he had access to young boys, such as Y.M.C.A.  camp\\ncounselor, boys\\' club leader, and Boy Scout leader-- activities he\\nkept up \\'during his college and graduate yeaers, and even after his\\nmarriage.\"\\n \\n\\n     As crude as his analysis seems, Eichel was more than happy to\\nelaborate even further in a recent phone interview.  \"If you\\'ve ever\\nbeen around boy- lovers, pedophiles, they are absolutely compulsive,\"\\nhe averred.  \"Everything in his life is directed at getting children.  I\\ndidn\\'t mention this in our book but the caption under Kinsey\\'s high\\nschool picture was a quote from Hamlet: \\'Man delights me not, no,\\n[sic] nor woman neither.\\' What do you think they were picking up on?\" \\n\\n     Before weighing what Reisman and Eichel pass off as proof of\\nKinsey\\'s sex crimes, something must be said about Kinsey\\'s scientific\\nmodus operandi.  He was a fiendish collector.  As a young zoologist with\\na D.Sc.  from Harvard, he collected 4 million gall wasps and 1.5\\nmillion related insects.  When he switched to sex exploration after\\nagreeing to teach a marriage Course at Indiana University in 1938, he\\nwas no less curious or acquisitive.  Nothing that mammals did in the\\nrealm of reproduction was foreign to him.  He compiled masses of erotic\\nmaterials including toilet wall inscriptions from male and female\\njohns that highlighted differences in sexual psychology and flms of\\nmating in 14 species of animals that showed an amazing similarity in\\noral eroticism.  \\n\\n     Naturally, the sexual response of children, the genesis of eros,\\nfascinated him.  It was impossible to understand the sexual behaviors\\nof adults without examining their origins.  And so with the fervor of\\nhis bughunting days, Kinsey collected information about kids, though\\neven his worst enemies-- until Reisman and Eichel-- refrained from\\nlinking him personally to his data on preadolescent sex.  \\n\\n     Kinsey said plainly in the male volume that he got information on\\nthe sex life of young boys from people who had sex with them: \"Some of\\nthese adults are technically trained persons who have kept diaries or\\nother records which have been put at our disposal.\"  Although he\\ngathered much boyhood data from the memories of his subjects and the\\nobservations of parents and nursery school teachers, he treated the\\ndocumentary materia! of the pedophiles as pure gold.  There was nothing\\nlike it in the literature.  \\n\\n     Kinsey\\'s main source, a 63-year-old govemment worker, was also\\nthe most unforgettable character he had ever met.  This man, whose\\nhistory took 17 hours to log, had sex with over 600 boys and 200 girls\\nas well as 17 of 33 family members including his father and\\ngrandmother.  A sexual hobbyist and passionate record-keeper, he gave\\nKinsey detailed accounts of orgasms that he observed in preadolescent\\nboys.  Relying on the man\\'s meticulous research, which involved\\nfollowing some boys for as long as 16 years, Kinsey was able to\\nidentify for the first time six distinct types of male orgasm-- some\\nof which involved violent contortions at the peak of release-- as well\\nas the speed and the capacity of climax.  \\n\\n     What Freud had only imagined about childhood sexuality, Kinsey\\nhad reported as fact.  Children were indeed erotic beings from the\\ncradle.  \"These data on the sexual activities of younger male provide\\nan important substantiation of the Freudian view of sexuality as a\\ncomponent that is present in the human animal from earliest infancy,\"\\nhe concluded without raising eyebrows in 1948.  \\n\\n     Then along came Judith Reisman.  Ignorng the legitimacy of\\nKinsey\\'s inquiry, she beheld the ghost of Mengele in Bloomington.  She\\nwas appalled by the thought of infant ecstasy and read torture in the\\nportrayals of prepubertal orgasm rendered by the government worker.\\nAnd she dared to say that Kinsey was a sex criminal.  \\n\\n     Well, was he or wasn\\'t he? Let\\'s go to the text.  There is no\\nevidence in Kinsey, Sex and Fraud-- no witnesses, no paper, noteven a\\ntrace of hearsay-- that implicates Kinsey in either planning or\\npartaking in child sex experiments.  After 12 years on the trail,\\nReisman has uncovered just two sources to back up her original charge-\\n- amazingly enough, Kinsey himself and Wardell Pomeroy, Kinsey\\'s\\ncoauthor on both reports, to whom Reisman has never spoken.  It turns\\nout that her whole case rests on a few passages in the male volume\\niand in Pomeroy\\'s 1972 biography titled Dr. Kinsey and the Institute\\nfor Sex Research.\\n\\n     After frisking every \"the\" and \"and\" in both books, Reisman came\\nup with what she believes are \"smoking\" sentences.  To establish\\nKinsey\\'s alleged role in the planning, she says that \"there is a hint\"\\nin the fifth chapter of the male volume that Kinsey \"directed\" the\\norgasm studies on kids.  She cites his tell-tale quote from a critic of\\narmchair psychoanalysis demanding that \"writers...test their\\ntheories...by empirical study and statistical procedures.\"  Then she\\ncombines this quote with Kinsey\\'s statement that some of the\\nobservations of his pedophile sources \"were continued over periods of\\nmonths or years until the individuals were old enough to make it\\ncertain that true orgasm was involved.\"  \\n\\n     Putting two and two together-- Kinsey\\'s empiricism and lengthy\\nexperimentation-- she arrives at her hint.  But realizing this dog\\nwould not hunt, she devoted but a single paragraph to Kinsey\\'s\\nsupposed planning before shifting to the issue of his personal\\ninvolvement.  As for the alleged participation, after poring over\\nPomeroy\\'s biography, Reisman found several hidden clues suggesting\\nKinsey\\'s likely hands-on approach to kiddie sex.  Here the chain of\\nreasoning is more complex.  She points out that Kinsey was interested\\nin clitoral measurements, collecting sperm and filming sex in his\\nattic.  Since Kinsey did indeed mislead Indiana University about the\\npurpose of his cinematography-- he said that he was filming \"animal\\nsex\"-- Reisman asserts that a \"similar misrepresentation may yet apply\\nto Kinsey\\'s child sex experiments.\"  Catch the \"may\"!\\n\\n     Reisman was also struck by Kinsey\\'s doubting Thomas attitude\\ntoward the never before recorded climax of female rabbits: \"Kinsey,\\naccording to Pomeroy, was the type of person who needed to see things\\nfor himself.  Pomeroy gave the example of orgasm in the female rabbit.\\nBecause he had not personally witnessed this event, Kinsey had\\ndifficulty in accepting its reality, even on the strength of testimony\\nfrom a distinguished scientist.  How then did Kinsey testify to the\\nactuality of orgasm in a 5-month-old infant from the mere \\'history\\' of\\na sex offender?\" (But, of course, he did not: he depended on their\\nrecords.) \\n\\n     From this fantastic alchemy of conjecture mixed with clitorides,\\nsperm, attic cumshots, and climax-in-cottontail has Reisman defamed\\nthe legendary Kinsey.\\n\\n     Paul Gebhard succeeded Kinsey as the director of the Kinsey\\nInstitute and now lives in retirement outside Bloomington.  Reached by\\ntelephone, Gebhard defended the pedophile connection and denied\\nReisman\\'s nasty imputations.  \"I don\\'t understand the resistance of\\npeople like Reisman to studying the sexuality of children,\" Gebhard\\nsaid more in exasperation than anger.  \"That is where sex begins.  We\\nwere happy to take data wherever we found it.  Even though pedophiles\\ncommit criminal acts, they are usually not violent folks.  They\\nwouldn\\'t be very successful if they were.  One of our best sources was\\na headmaster of a boys\\' school who maintained a kind of alumni club\\nand sometimes went to the weddings of his former students.  As for\\ndirecting experiments, that\\'s absurd.  We never told any of our\\nsubjects what to do.  lt was against our principles.  Almost all of the\\npedophile material was retrospective anyway.  Nor did we ever conduct\\nsex experiments with children ourselves.  That would have been highly\\ninappropriate.\"  \\n\\n     I asked Gebhard if Kinsey had ever seen a child in a sexual\\nsituation.  \"I think a mother once brought in a little girl who humped\\nher teddy bear and Kinsey watched it.\"  \\n\\n     As for Kinsey\\'s sex life, it is still shrouded in\\nconfidentiality.  He was married to the same woman for 35 years and\\nfathered four children.  Apparently, there are no huge sexual\\nrevelations, although rumors of homosexuality have persisted without\\nconfirmation through the years.  Gebhard took his boss\\'s history back\\nin the \\'40s, but he refuses to discuss what he knows.  \"We never\\ndivulge anything about anybody\\'s history, whether dead or alive,\" he\\nsays.  \\n\\n     Reisman said no to an interview for this article on the grounds\\nthat I had once worked for Penthouse-- not to mention the fact that we\\nhave been debating each other in various forums for the past five\\nyears.  In keeping with our contentious history, she took a swipe at me\\nin her book for continuing \"the Kinsey practice of euphemizing\\nincest.\"  My offense was using the biblical variant \"lying with a near\\nrelative\" in a 1977 article on the subject of incest.  As a synonym for\\nintercourse, \"lying with\" appears eight times in Genesis.  \\n\\n     Ed Eichel is a different story.  Though seemingly obsessed by\\nKinsey like his coauthor, he was friendly in long conversations.  He\\ntold me that he began to smell a big baised agenda in sexology when he\\nwas a student in New York University\\'s Human Sexuality program in the\\nearly \\'80s.  \"It was literally a gay studies program for heterosexuals,\"\\nhe says.\\n\\n     Around 1985, Eichel came upon Reisman\\'s critique of Kinsey and\\nthe conspiracy theory started to sink in: the sex establishment was\\nruled by a Kinseyan bisexual bund advocating the overthrow of the\\nheterosexual norm.  No wonder he was having such a rough time promoting\\nthe joy of simultaneous orgasm-- anything that enhanced sexual\\ncompatibility between men and women inevitably raised objections.\\n\\n     Eventually, Eichel exchanged philosophical fluids with Reisman,\\nand from this union Kinsey, Sex and Fraud was born.  Eichel\\'s main\\ncontribution to the book is discovery and analysis of a Kinsey\\nconspiracy that supposedly seeks \"the establishment of bisexuality as\\nthe balanced sexual orientation for normal, uninhibited people\" which,\\nby destroying the traditional family structure and normal sexual\\nbehavior, \"would open the way for the second and more difficult step--\\nthe ultimate goal of cross-generational sex (sex with children).\"  \\n\\n     When I pressed him for specific references to back up his\\noutrageous contentions, he said weakly, \"You don\\'t think Kinsey is\\ngoing to come right out and say that everybody is basically bisexual\\nand should have sex with kids, but this is implicit in the Kinsey\\nreports.\"  \\n\\n     Meanwhile, Eichel is demanding a congressional investigation of\\nKinsey and his data.  Perfect.  That\\'s just what the country needs-- a\\nHouse Un-American Sexual Activities Committee, looking under beds and\\nasking people if they are now or have everbeen a reader, a sympathizer\\nor-- God forbid-- a subject of Dr. Alfred Kinsey.\\n\\n\\n         Elf !!!\\n--\\nelf@halcyon.com  (Elf Sternberg)',\n",
       " 'OK Phil, you\\'re right. So far the \"evidence\" suggests that Nixon was a victim\\nof overzealous underlings and Kennedy was a womanizing disgust-o-blob with\\na dash of megalomania. After crushing the CIA and FBI who\\'s to say Kennedy \\nwouldn\\'t have created his own version of American Friendly Fascism?\\n\\nUnfortunately however, we don\\'t have all the evidence. So far this nation\\'s\\ncitizens have been privy to about 12 hours of the total 4,000 hours of Nixon\\'s\\ntapes. What\\'s on the rest of those babies? Some archivists have alluded that\\nthere is \"evidence\" to suggest that Nixon and his cronies, including George\\nBush, were aware of the plot to murder Kennedy before he was shot in Dallas.\\n\\nAsk your local D.A. what the charges are for the above crime.\\n\\n\\nAnd so I must ask you, Phil me putz, when all this shit finally comes out\\nwhen you and I are old men, I would appreciate the privilege of sticking a pole\\nup your ass and parading you down Main Street with a sign on your chest:\\n\\n\"I was an Apologist for the American Fascist Regime circa 1944 -- 2010\"\\n\\n(How\\'s that for a lovely Brecht-ian image:-)\\n\\n\\nThere, that ought to get a reaction. Unless I\\'m in his killfile this week...',\n",
       " \"I appeal to to all of you to show up in Washington DC. this saturday to\\nparticipate in a peaceful demonstration for the sake of humanity!! This is a \\ncritical point in the history of world and we can make a change otherwise things\\nwill not change there in Bosnia.. Rapes/killings/ethnic cleansing will\\ngo on as a norm in the days to follow. The UN will get to the towns after the fall\\nof thousands of inocent civilians (like in Zapa just the past weekend!). It happened\\nto the Jews in 1940's, it's happening to the muslims today and who will be the next\\nvictim??\\n\\nSince the Europeans want to remain indifferent in this issue, time has come for US to\\ntake a leadership role to stop these crimes against humanity. Time is now and\\nthis is for real folks, the people of New England Bosnian Relief Committee seriously believe\\nthat Clinton's Adminstration will stop supporting the Bosnian cause without sustained\\npublic pressure. I just called Democaratic Sen. John Kerry's office and they are saying that \\nhe (the senator) is waiting for president to take a decision, means that he will wait and \\njoin the band-wagon later if it ever moves! \\n\\nPlease don't rely on others to take part in this demonstration -You as an individual\\nwill make a big difference. Bring your families too, not only you will help a great\\ncause but also it will be fun for all. I know of several families from Massachusetts\\nwho are travelling friday night to participate there. Contact the local Islamic center\\nor Bosnia relief agency if you want to travel by pre-arranged busses. The best option \\nfor students is to rent-a-car and car-pool. Please, spread the word around...\\n\\n\\n\\nRegards,\\n\\nKhalid Chishti \\n\\nIf you live in Massachusetts and want more info:\\n\\nCall Ginan (from New England Bosnian Relief Committee): 617-623-1973 \\nOR \\nNew England Bosnian Relief Committee phone no:  (617) 464-0111\\n\\n\\n\\n\\n\\n\\n\\n\",\n",
       " 're: extended Ka bands.\\n\\nI recently bought a 2 band detector.  You guys must all think I\\'m\\nnuts, right?  Well, I did a little research into Ka usage in this\\narea and found out that Ka is not currently being used in this state\\nas well as surrounding states.  Here\\'s how I found out:\\n\\n- A cop friend who did spend time nailing speeders doesn\\'t even know \\n  what Ka is.  He\\'s heard of K, which is what they use here and I\\n  explained that Ka is used for photo radar etc.. He then said, yeah,\\n  \"Ka stands for K automatic\"... duuhh.  He then went on to say that\\n  plans were being made for getting laser guns as far as going high\\n  tech were concerned, but he didn\\'t know too much.\\n\\n- My 8 year old 2 band whistler was consistently going off at speed traps,\\n  even the real sneaky ones.\\n\\n- When I called the Escort Shop, they confirmed that Ka is not used here\\n  or in surrounding states.  They did claim that Laser was being used\\n  a lot here, which I was quite skeptical of.\\n\\nSo in the end, instead of spending a lot of money and/or waiting\\nmonths for a state of the art detector, I got a low priced, high\\nperformance 2 band Escort 2200.  Incidentally its performance is equal\\nto their top of the line model in X and K band detection.  I know that\\nEscort has been surpassed by other brands lately, but I\\'ve never fully\\nrelied on a detector and I was convinced that the Escorts would be at\\nleast quite good, which was good enough for me and my wallet.\\n',\n",
       " 'Watch your language ASSHOLE!!!!',\n",
       " ': >>     WHO is Josie Hadas?\\n: \\n: \\n: I see you didn\\'t notice my recent posting.\\n: \\n: The FBI found that \"Josie Hadas\" was simply an alias taken by Salameh.\\n: \\n\\nI have the sources for the information in the Chronology, including the\\nNY Daily News of March 5 that reports the arrest of Josie Hadas and a\\ncopy of the foreign press reports of her release shortly afterwards.\\n\\nWhat is the source for your alias story?\\n\\nAnd pray tell me how can the FBI arrest and release an alias?\\n: \\n: >>     WHAT is the relationship between that person and the Israeli mussad?\\n: \\n: Zilch, zero, nothing. Like the IQ of the idiot who posted this absurdity in the\\n: first place.',\n",
       " '[... snip ...]\\n\\n\\nCan you imagine what happens when a magazine explodes? Bullets go flying every\\nwhere. IMHO, these \"gunshot wounds\" were actually caused when the magazines \\nwent up. A Texas ranger does not a pathologist make, so I\\'ll wait for an\\nautopsy to determine if they were shot first. ',\n",
       " '\\n\\nComing from an idiot/crook Armenian, I\\'d take that as a compliment.\\nYour criminal grandparents committed unheard-of crimes, resorted\\nto all conceivable methods of despotism, organized massacres, poured \\npetrol over babies and burned them, raped women and girls in front of \\ntheir parents who were bound hand and foot, took girls from their \\nmothers and fathers and appropriated personal property and real estate. \\nAnd today, they put Azeris in the most unbearable conditions any other \\nnation had ever known in history.\\n                               \\nSource: John Dewey: \"The New Republic,\" Vol. 40, Nov. 12, 1928, pp. 268-9.\\n\\n\"They [Armenians] traitorously turned Turkish cities over to the Russian \\n invader; that they boasted of having raised an army of one hundred and\\n fifty thousand men to fight a civil war, and that they burned at least\\n a hundred Turkish villages and exterminated their population.\"\\n\\n\\n SOME OF THE REFERENCES FROM EMINENT AUTHORS IN THE FIELD OF MIDDLE-EASTERN\\n HISTORY AND EYEWITNESSES OF THE ARMENIAN GENOCIDE OF 2.5 MILLION MUSLIMS\\n\\n1. \"The Armenian Revolutionary Movement\" by Louise Nalbandian,\\n   University of California Press, Berkeley, Los Angeles, 1975\\n\\n2. \"Diplomacy of Imperialism 1890-1902\" by William I. Lenger, Professor\\n   of History, Harward University, Boston, Alfred A. Knopt, New York, 1951\\n\\n3. \"Turkey in Europe\" by Sir Charles Elliot, \\n   Edward & Arnold, London, 1900\\n\\n4. \"The Chatnam House Version and Other Middle-Eastern Studies\" by\\n   Elie Kedouri, Praeger Publishers, New York, Washington, 1972\\n\\n5. \"The Rising Crescent\" by Ernest Jackh,\\n   Farrar & Reinhart, Inc., New York & Toronto, 1944\\n\\n6. \"Spiritual and Political Evolutions in Islam\" by Felix Valyi,\\n   Mogan, Paul, Trench & Truebner & Co., London, 1925\\n\\n7. \"The Struggle for Power in Moslem Asia\" by E. Alexander Powell,\\n   The Century Co., New York, London, 1924\\n\\n8. \"Struggle for Transcaucasia\" by Feruz Kazemzadeh,\\n   Yale University Press, New Haven, Conn., 1951\\n\\n9. \"History of the Ottoman Empire and Modern Turkey\" (2 volumes) by\\n   Stanford J. Shaw, Cambridge University Press, Cambridge, New York,\\n   Melbourne, 1977\\n\\n10.\"The Western Question in Greece and Turkey\" by Arnold J. Toynbee,\\n   Constable & Co., Ltd., London, Bombay & Sydney, 1922\\n\\n11.\"The Caliph\\'s Last Heritage\" by Sir Mark Sykes,\\n   Macmillan & Co., London, 1915\\n\\n12.\"Men Are Like That\" by Leonard A. Hartill,\\n   Bobbs Co., Indianapolis, 1928\\n\\n13.\"Adventures in the Near East, 1918-22\" by A. Rawlinson,\\n   Dodd, Meade & Co., 1925\\n\\n14.\"World Alive, A Personal Story\" by Robert Dunn,\\n   Crown Publishers, Inc., New York, 1952\\n\\n15.\"From Sardarapat to Serves and Lousanne\" by Avetis Aharonian,\\n   The Armenian Review Magazine, Volume 15 (Fall 1962) through 17 \\n   (Spring 1964)\\n\\n16.\"Armenia on the Road to Independence\" by Richard G. Hovanessian,\\n   University of California Press, Berkeley, California, 1967\\n\\n17.\"The Rebirth of Turkey\" by Clair Price,\\n   Thomas Seltzer, New York, 1923\\n\\n18.\"Caucasian Battlefields\" by W. B. Allen & Paul Muratoff,\\n   Cambridge, 1953\\n\\n19.\"Partition of Turkey\" by Harry N. Howard,\\n   H. Fertig, New York, 1966\\n   \\n20.\"The King-Crane Commission\" by Harry N. Howard,\\n   Beirut, 1963\\n\\n21.\"United States Policy and Partition of Turkey\" by Laurence Evans,\\n   John Hopkins University Press, Baltimore, 1965\\n\\n22.\"British Documents Related to Turkish War of Independence\" by Gothard \\n   Jaeschke\\n     \\n1. Neside Kerem Demir, \"Bir Sehid Anasina Tarihin Soyledikleri: \\n   Turkiye\\'nin Ermeni Meselesi,\" Hulbe Basim ve Yayin T.A.S., \\n   Ankara, 1982. (Ingilizce Birinci Baski: 1980, \"The Armenian \\n   Question in Turkey\")\\n\\n2. Veysel Eroglu, \"Ermeni Mezalimi,\" Sebil Yayinevi, Istanbul, 1978.\\n\\n3. A. Alper Gazigiray, \"Osmanlilardan Gunumuze Kadar Vesikalarla Ermeni\\n   Teroru\\'nun Kaynaklari,\" Gozen Kitabevi, Istanbul, 1982.\\n\\n4. Dr. Kirzioglu M. Fahrettin, \"Kars Ili ve Cevresinde Ermeni Mezalimi,\"\\n   Kardes Matbaasi, Ankara, 1970. \\n\\nT.C. Basbakanlik Osmanli Arsivi, Babiali, Istanbul:\\n\\na) Yildiz Esas Evraki\\nb) Yildiz Perakende\\nc) Irade Defterleri\\nd) Cemaat-i Gayr-i Muslime Defterleri\\ne) Meclisi Vukela Mazbatalari\\nf) Dahiliye Nezareti, Kalem-i Mahsus Dosyalari\\ng) Dahiliye Nezareti, Sifre Defterleri\\nh) Babiali Evrak Odasi: Siyasi Kartonlar\\ni) Babiali Evrak Odasi: Muhimme Kartonlari\\n\\nT.C. Disisleri Bakanligi, Hazine-i Evrak, Defterdarlik  \\n\\na) Harb-i Umumi\\nb) Muteferrik Kartonlar\\n\\nBritish Archives:\\n\\na) Parliamentary Papers (Hansard): Commons/Lords\\nb) Foreign Office: Confidential Print: Various Collections\\nc) Foreign Office: 424/239-253: Turkey: Correspondence - Annual Reports\\nd) Foreign Office: 608\\ne) Foreign Office: 371, Political Intelligence: General Correspondence\\nf) Foreign Office: 800/240, Ryan Papers\\ng) Foreign Office: 800/151, Curzon Papers\\nh) Foreign Office: 839: The Eastern Conference: Lausanne. 53 files\\n\\nIndia Office Records and Library, Blackfriars Road, London.\\n\\na) L/Political and Security/10/851-855 (five boxes), \"Turkey: Treaty of\\n   Peace: 1918-1923\"\\nb) L/P & S/10/1031, \"Near East: Turkey and Greece: Lausanne Conference,\\n   1921-1923\"\\nc) L/P & S/11/154\\nd) L/P & S/11/1031\\n\\nFrench Archives\\n\\nArchives du ministere des Affaires entrangeres, Quai d\\'Orsay, Paris.\\n\\na) Documents Diplomatiques: Affaires Armeniens: 1895-1914 Collections\\nb) Guerre: 1914-1918: Turquie: Legion d\\'Orient.\\nc) Levant, 1918-1929: Armenie.\\n\\n\\nOfficial Publications, Published Documents, Diplomatic Correspondence,\\nAgreements, Minutes and Others\\n\\nA. Turkey (The Ottoman Empire and The Republic of Turkey)\\n\\nAkarli, E. (ed.); \"Belgelerle Tanzimat,\" (istanbul, 1978).\\n(Gn. Kur., ATASE); \"Askeri Tarih Belgeleri Dergisi,\" V. XXXI (81),\\n(Dec. 1982).\\n----; \"Askeri Tarih Belgeleri Dergisi,\" V. XXXII (83),\\n(Dec. 1983).\\nHocaoglu, M. (ed.); \"Ittihad-i Anasir-i Osmaniye Heyeti Nizamnamesi,\"\\n(Istanbul, 1912).\\nMeray, S. L. (trans./ed.) \"Lozan Baris Konferansi: Tutanaklar-Belgeler,\"\\n(Ankara, 1978), 2 vols.\\nMeray, S. L./O. Olcay (ed.); \"Osmanli Imparatorlugu\\'nun Cokus Belgeleri;\\nMondros Birakismasi, Sevr Andlasmasi, Ilgili Belgeler,\" (Ankara, 1977).\\n(Osmanli Devleti, Dahiliye Nezareti); \"Aspirations et Agissements \\nRevolutionnaires des Comites Armeniens avant et apres la proclamation\\nde la Constitution Ottomane,\" (Istanbul, 1917).\\n----; \"Ermeni Komitelerinin Amal ve Hareket-i Ihtilaliyesi: Ilan-i\\nMesrutiyetten Evvel ve Sonra,\" (Istanbul, 1916).\\n----; \"Idare-i Umumiye ve Vilayet Kanunu,\" (Istanbul, 1913).\\n----; \"Muharrerat-i Umumiye Mecmuasi, V. I (Istanbul, 1914).\\n----; \"Muharrerat-i Umumiye Mecmuasi, V. II (Istanbul, 1915).\\n----; \"Muharrerat-i Umumiye Mecmuasi, V. III (Istanbul, 1916).\\n----; \"Muharrerat-i Umumiye Mecmuasi, V. IV (Istanbul, 1917).\\n(Osmanli Devleti, Hariciye Nezareti); \"Imtiyazat-i Ecnebiyye\\'nin\\nLagvindan Dolayi Memurine Teblig Olunacak Talimatname,\" (Istanbul, 1915).\\n(Osmanli Devleti, Harbiye Nezareti); \"Islam Ahalinin Ducar Olduklari\\nMezalim Hakkinda Vesaike Mustenid Malumat,\" (Istanbul, 1919).\\n----; (IV. Ordu) \"Aliye Divan-i Harbi Orfisinde Tedkik Olunan Mesele-yi\\nSiyasiye Hakkinda Izahat,\" (Istanbul, 1916).\\nTurkozu, H. K. (ed.); \"Osmanli ve Sovyet Belgeleriyle Ermeni Mezalimi,\"\\n(Ankara, 1982).\\n----; \"Turkiye Buyuk Millet Meclisi Gizli Celse Zabitlari,\" (Ankara, 1985),\\n4 vols.\\n\\nRussia\\n\\nAdamof, E. E. (ed.); \"Sovyet Devlet Arsivi Belgeleriyle Anadolu\\'nun \\nTaksimi Plani,\" (tran. H. Rahmi, ed. H. Mutlucag), (Istanbul, 1972).\\n\\nAltinay, A. R.; \"Iki Komite - Iki Kital,\" (Istanbul, 1919).\\n----; \"Kafkas Yollarinda Hatiralar ve Tahassusler,\" (Istanbul, 1919).\\n----; \"Turkiye\\'de Katolik Propagandasi,\" Turk tarihi Encumeni Mecmuasi,\\nV. XIV/82-5 (Sept. 1924).\\nAsaf Muammer; \"Harb ve Mesulleri,\" (Istanbul, 1918).\\nAkboy, C.; \"Birinci Dunya Harbinde Turk Harbi, V. I: Osmanli Imparatorlugu\\'nun\\nSiyasi ve Askeri Hazirliklari ve Harbe Girisi,\" (Gn. Kur., Ankara, 1970).\\nAkgun, S.; \"General Harbord\\'un Anadolu Gezisi ve (Ermeni Meselesi\\'ne Dair)\\nRaporu: Kurtulus Savasi Baslangicinda,\" (Istanbul, 1981).\\nAkin, I.; \"Turk Devrim Tarihi,\" (Istanbul, 1983).\\nAksin, S.; \"Jon Turkler ve Ittihad ve Terakki,\" (Istanbul, 1976).\\nBasar, Z. (ed.);\"Ermenilerden Gorduklerimiz,\" (Ankara, 1974).\\n----; \"Ermeniler Hakkinda Makaleler - Derlemeler,\" (Ankara, 1978).\\nBelen, F.; \"Birinci Dunya Harbinde Turk Harbi,\" (Ankara, 1964).\\nDeliorman, A.; \"Turklere Karsi Ermeni Komitecileri,\" (Istanbul, 1980).\\nEge, N. N. (ed.); \"Prens Sabahaddin: Hayati ve Ilmi Mudafaalari,\"\\n(Istanbul, 1977).\\nErcikan, A.; \"Ermenilerin Bizans ve Osmanli Imparatorluklarindaki Rolleri,\"\\n(Ankara, 1949).\\nGurun, K.; \\'Ermeni Sorunu yahut bir sorun nasil yaratilir?\\', \"Turk Tarihinde\\nErmeniler Sempozyumu,\" (Izmir, 1983).\\nHocaoglu, M.; \"Arsiv Vesikalariyla Tarihte Ermeni Mezalimi ve Ermeniler,\"\\n(Istanbul, 1976).\\nKaral, E. S.; \"Osmanli Tarihi,\" V. V (1983, 4th ed.); V. VI (1976, 2nd ed.);\\nV. VII (1977, 2nd ed.); V. VIII (1983, 2nd ed.) Ankara.\\nKurat, Y. T.; \"Osmanli Imparatorlugu\\'nun Paylasilmasi,\" (Ankara, 1976).\\nOrel, S./S. Yuca; \"Ermenilerce Talat Pasa\\'ya Atfedilen Telgraflarin\\nIcyuzu,\" (Ankara, 1983). [Also in English translation.]\\nAhmad, F.; \"The Young Turks: The Committee of Union and Progress in\\nTurkish Politics,\" (Oxford, 1969).\\n\\nSerdar Argic',\n",
       " '\\n(Whatever the above comment has to do with the hazards of fighting a\\nfire in the midst of ammo cooking off...)\\nMaybe the fire department was loudly complaining the whole time about\\nbeing diverted from their other duties, and the FBI said \"FIne. Go home\\nand we\\'ll call you if we need you.\"  A million things could have happened,\\nwe don\\'t know.\\n\\nBTW, this is the first time I have heard that the Waco FD was on scene\\nfor all but the last 2 days...  what\\'s the source (out of curiosity)?\\n\\n\\n']"
      ]
     },
     "execution_count": 10,
     "metadata": {},
     "output_type": "execute_result"
    }
   ],
   "source": [
    "corpus[:10]"
   ]
  },
  {
   "cell_type": "markdown",
   "id": "8f877575",
   "metadata": {},
   "source": [
    "## Preprocesamiento del corpus"
   ]
  },
  {
   "cell_type": "code",
   "execution_count": 11,
   "id": "ba4f708d",
   "metadata": {},
   "outputs": [],
   "source": [
    "corpus_preprocessed = []"
   ]
  },
  {
   "cell_type": "markdown",
   "id": "84daa0df",
   "metadata": {},
   "source": [
    "### Eliminación de caracteres no alfabéticos"
   ]
  },
  {
   "cell_type": "markdown",
   "id": "eb93927f",
   "metadata": {},
   "source": [
    "Dado que hay caracteres no alfabéticos en el corpus, se debe implementar una función para eliminarlos. Esta función tomará un texto como entrada y devolverá el texto procesado."
   ]
  },
  {
   "cell_type": "code",
   "execution_count": 12,
   "id": "f95c64e3",
   "metadata": {},
   "outputs": [],
   "source": [
    "def remove_non_alpha(text):\n",
    "    text = text.replace(\"\\n\", \" \")\n",
    "    text = text.replace(\"\\r\", \" \")\n",
    "    text = text.replace(\"\\t\", \" \")\n",
    "    return ''.join(c for c in text if c.isalpha() or c.isspace())"
   ]
  },
  {
   "cell_type": "markdown",
   "id": "6b73cb11",
   "metadata": {},
   "source": [
    "### Case Folding"
   ]
  },
  {
   "cell_type": "markdown",
   "id": "3f48ca09",
   "metadata": {},
   "source": [
    "Para la estandarización de las palabras, se pasará todo el texto a minúsculas. Esto ayudará a reducir la variabilidad en la representación de las palabras y facilitará el procesamiento posterior."
   ]
  },
  {
   "cell_type": "code",
   "execution_count": 13,
   "id": "e6a9e019",
   "metadata": {},
   "outputs": [],
   "source": [
    "def case_folding(text):\n",
    "    return text.lower()"
   ]
  },
  {
   "cell_type": "code",
   "execution_count": 14,
   "id": "29b36359",
   "metadata": {},
   "outputs": [],
   "source": [
    "def preprocessing_pipeline(text):\n",
    "    text = remove_non_alpha(text)\n",
    "    text = case_folding(text)\n",
    "    return text"
   ]
  },
  {
   "cell_type": "markdown",
   "id": "89bec749",
   "metadata": {},
   "source": [
    "Se agregarán las palabras <SOF> y <EOF> al inicio y al final de cada texto preprocesado, respectivamente para que la última palabra de un correo electrónico no sea relacionada con la primer palabra del siguiente."
   ]
  },
  {
   "cell_type": "code",
   "execution_count": 15,
   "id": "80b888f9",
   "metadata": {},
   "outputs": [],
   "source": [
    "for text in corpus:\n",
    "    text_preprocessed = preprocessing_pipeline(text)\n",
    "    corpus_preprocessed.append(text_preprocessed)"
   ]
  },
  {
   "cell_type": "code",
   "execution_count": 16,
   "id": "fa44ab38",
   "metadata": {},
   "outputs": [
    {
     "data": {
      "text/plain": [
       "[' critisism is too easy what solutions do people have that  would have been better than what the fbi had been doing for the last few months   after the seige began  surround the place with razor wire and then let them sit  do not have daily press conferences do your best to keep things out of the press   as things get more and more miserable inside one of two things is going to happen    people will start coming out    they will commit suicide in mass at some point   the thing to remember about  is that hysterical situations and assults play into the hands of a leader who has picked this course   its much easier to stampede people into something like suicide if there is gas coming in and bullets in the air  let them be hungry and miserable for longer and longer and it will probably be more effective   the possiblity that they would all kill themselves at some point would not bother me in the least or alter tactics  if people are going to take their own lives the best you can probably do is prevent yourself from giving them the opportunity or an excuse to do it',\n",
       " '       granted  pomeroy bell weinberg   national institute of mental health paper  patterns of adjusment in deviant populations  cited as part of the national institute of mental health task force on homosexuality     pomery concluded the kinsey statistic of  is probably higher than is realistic  according to these estimates  is a more realistic figure     i went out and bought lots of bell  weinberg this weekend can you tell     also the janus report on sexual behavior samuel s janus phd and cynthia l janus md john wiley  sons pub  has the following  table  have you ever had a homosexual experience           men    women n            yes              no                table  how often have you had homosexual contact                       men   women n                          a once                       b occasionally             c frequently                d ongoing                   active c  d              of  is   this number is consistent with kinsey pomery gebard  bell  weinberg   and rice  in the finding that  of the male population is actively homosexual with an further breakdown bell  wienberg  of  exclusively so and  selfidentifying themselves as bisexuals     pp       as for debunking kinsey the following article is an important lesson for everyone to read  was kinsey a fake and a pervert by philip nobile       far out on the grassy knoll of sexology there is a cult of prochastity researchers who claim that the late alfred kinsey was a secret sex criminal a hoosier dr mengele who bent his numbers toward the bisexual and the bizarre in a grand conspiracy to queer the nation and usher in an era of free sex with kids         but what really riles these critics is kinseys towerin cultural influence  his bestselling surveys sexual behavior in the human male  and sexual behavior in the human female  tore the sheets off the countrys erogenous zones and undermined midcentury morals  his charts and graphs based on detailed histories of  men and women demonstrated that practices generally considered rare andor abnormal masturbation extramarital relations homosexuality and even barnyard bestiality were as american as strawberry shortcake         yet for a hard core of these heterosexual supremacists aided and abetted by pat buchanan and the religious right the zoology professor from indiana university remains the evil genius behind the sex revolution and a target for character assassination         judith reisman the prosecutions expert witness at the mapplethorpe trial in cincinnati is the leader of the anti kinsey revisionists as well as his inspector javert  in  during a radio interview with pat buchanan in washington reisman accused kinsey of having been inolved in the vicious genital torture of hundreds of children  she speculated that he kidnapped and drugged ghetto boys in order to carry out clandestine orgasm tests         now seven years later reisman has revived her charges in a different book titled kinsey sex and fraud just released by the small and religiously oriented huntington house in lafayette louisiana  her coauthor is ed eichel a manhattan psychotherapist who has invented a new style of intromission the coital alignment technique that supposedly triggers simultaneous orgasm with considerable regularity and thereby increases compatibilty between the sexes  in the book eichel contends that kinsey deliberately cooked the gay stats because being an oddball himself he wanted to advance the denormalization of heterosexuality         if the authors are right then the world famous kinsey reports are as the introduction boldly asserts the most egregious example of scientific deception in this century  and if they are wrong kinsey sex and fraud is a shameful smear       despite the less than stellar credentials of kinseys detractors legends are not what they used to be  martin luther king may have committed plagiarism  bruno bettelheim slapped young mental patients around  father bruce ritter the founder of covenant house preyed on runaway boys  closer to kinsey masters and johnson have been disgraced for faking it in one way or another         so it should not surprise anybody that kinsey who filmed strange people having sex in his attic may have had skeletons in the closet the problem is that reisman does not seem to have the intellectual prowess to pull off the job         as a thinker the woman is no madame curie  the yearold former songwriter for captain kangaroo has little professional standing no current university position and no peerreview publications though her creative  resume was padded with phantom accomplishments  for instance it listed a book as her own take back the night women on pornography that was actually written and edited by others  then there is her phd in speech communication from clevelands case western reserve university  although reisman has no bachelors degree case granted her a masters in  and a doctorate in   her dissertation was on the commentaries of a local octagenarian tv commentator  but on the resume reisman gave this piece of scholarship a fancy hautes etudes moniker to wit the application of aristotelian and systems analytic theory to mass media effects       when reisman burst into prominence on buchanans program it was love at first sight for al regnery the outwardly anti  porn head of juvenile justice and delinquency prevention in ed meeses justice department  regnery was a young lawandorder conservative and amateur social philosopher who wanted to help change the sexual climate of the united states         after reismans sensational radio session the sexual equivalent of joe mccarthys wheeling speech regnery summoned  her to meetings to discuss mutual interests  first he tried to shovel her  for a quasifrankenstein study that was going to measure the brain chemicals of men and boys who looked at arousing photographs  guffaws on capitol hill killed the original proposal but  in govemment money went to reisman anyway for plan b a probe of child images in the cartoons playboy penthouse and hust ler  incredibly this grant surpassed the entire budget of the attorney generals pornography commission        when the overpriced and oversold project was completed in  it was immediately shelved by an embarrassed justice department  that spring regnery resigned from his post only days before the new republic carried this admission that he had kept porno magazines around the house         notwithstanding the sixfigure humiliation reisman went on to scratch out a niche on the ioony right  as the darling of the sex cranks she deplores subversive phenomena like shaved genitalia in mens magazines and blames aids on gays  kinsey sex and fraud is reismans latest grasp for respectability  pat buchanan of course is putting his krugerrands on reismans ultimate vindication  this book is social dynamite he says in a blurb an the front cover  he especially liked the antigay parts  smacking his lips in his syndicated column he declared it may just blow the sewer cap off kinseys monumental reputation reestablish homosexuality as a in aberration expose the gay rights movement as a paper tiger and even put at risk the enormous sex industry built upon dr kinseys research       the blockbuster charge at the heart of the cluttered and repetilive jaccuse is that kinsey was a sexmad pedophile who molested little boys in nazitype experiments and recorded their orgasms in his male volume a similar charge was first recited at the fifth world conference on sexology in jerusalem in  to no effect before being recycled by reisman for buchanan in washington in        here is how reisman and eichel repackaged the mengele business in kinsey sex and fraud       mengelelike scientific experiments on infants and children were the basis for kinseys conclusions  on childhood sexuality       somewhere and sometime in the course of the project kinsey appears to have directed experimental sex research on several hundred children aged from two months to almost  years       this of course would implicate kinsey and his team in promoting and perhaps participating in the criminal activity       in the opinion of this books authors that is exactly how part of kinseys child sexuality research took place        donning his psychohistorians cap and citing an fbi manual on child molesters as a guide eichel casually diagnoses kinsey as a homosexual pedophile with the perfect motive for doing exactly as         kinsey placed himself in professional and nonprofessional positions where he had access to young boys such as ymca  camp counselor boys club leader and boy scout leader activities he kept up during his college and graduate yeaers and even after his marriage         as crude as his analysis seems eichel was more than happy to elaborate even further in a recent phone interview  if youve ever been around boy lovers pedophiles they are absolutely compulsive he averred  everything in his life is directed at getting children  i didnt mention this in our book but the caption under kinseys high school picture was a quote from hamlet man delights me not no sic nor woman neither what do you think they were picking up on        before weighing what reisman and eichel pass off as proof of kinseys sex crimes something must be said about kinseys scientific modus operandi  he was a fiendish collector  as a young zoologist with a dsc  from harvard he collected  million gall wasps and  million related insects  when he switched to sex exploration after agreeing to teach a marriage course at indiana university in  he was no less curious or acquisitive  nothing that mammals did in the realm of reproduction was foreign to him  he compiled masses of erotic materials including toilet wall inscriptions from male and female johns that highlighted differences in sexual psychology and flms of mating in  species of animals that showed an amazing similarity in oral eroticism         naturally the sexual response of children the genesis of eros fascinated him  it was impossible to understand the sexual behaviors of adults without examining their origins  and so with the fervor of his bughunting days kinsey collected information about kids though even his worst enemies until reisman and eichel refrained from linking him personally to his data on preadolescent sex         kinsey said plainly in the male volume that he got information on the sex life of young boys from people who had sex with them some of these adults are technically trained persons who have kept diaries or other records which have been put at our disposal  although he gathered much boyhood data from the memories of his subjects and the observations of parents and nursery school teachers he treated the documentary materia of the pedophiles as pure gold  there was nothing like it in the literature         kinseys main source a yearold govemment worker was also the most unforgettable character he had ever met  this man whose history took  hours to log had sex with over  boys and  girls as well as  of  family members including his father and grandmother  a sexual hobbyist and passionate recordkeeper he gave kinsey detailed accounts of orgasms that he observed in preadolescent boys  relying on the mans meticulous research which involved following some boys for as long as  years kinsey was able to identify for the first time six distinct types of male orgasm some of which involved violent contortions at the peak of release as well as the speed and the capacity of climax         what freud had only imagined about childhood sexuality kinsey had reported as fact  children were indeed erotic beings from the cradle  these data on the sexual activities of younger male provide an important substantiation of the freudian view of sexuality as a component that is present in the human animal from earliest infancy he concluded without raising eyebrows in          then along came judith reisman  ignorng the legitimacy of kinseys inquiry she beheld the ghost of mengele in bloomington  she was appalled by the thought of infant ecstasy and read torture in the portrayals of prepubertal orgasm rendered by the government worker and she dared to say that kinsey was a sex criminal         well was he or wasnt he lets go to the text  there is no evidence in kinsey sex and fraud no witnesses no paper noteven a trace of hearsay that implicates kinsey in either planning or partaking in child sex experiments  after  years on the trail reisman has uncovered just two sources to back up her original charge  amazingly enough kinsey himself and wardell pomeroy kinseys coauthor on both reports to whom reisman has never spoken  it turns out that her whole case rests on a few passages in the male volume iand in pomeroys  biography titled dr kinsey and the institute for sex research       after frisking every the and and in both books reisman came up with what she believes are smoking sentences  to establish kinseys alleged role in the planning she says that there is a hint in the fifth chapter of the male volume that kinsey directed the orgasm studies on kids  she cites his telltale quote from a critic of armchair psychoanalysis demanding that writerstest their theoriesby empirical study and statistical procedures  then she combines this quote with kinseys statement that some of the observations of his pedophile sources were continued over periods of months or years until the individuals were old enough to make it certain that true orgasm was involved         putting two and two together kinseys empiricism and lengthy experimentation she arrives at her hint  but realizing this dog would not hunt she devoted but a single paragraph to kinseys supposed planning before shifting to the issue of his personal involvement  as for the alleged participation after poring over pomeroys biography reisman found several hidden clues suggesting kinseys likely handson approach to kiddie sex  here the chain of reasoning is more complex  she points out that kinsey was interested in clitoral measurements collecting sperm and filming sex in his attic  since kinsey did indeed mislead indiana university about the purpose of his cinematography he said that he was filming animal sex reisman asserts that a similar misrepresentation may yet apply to kinseys child sex experiments  catch the may       reisman was also struck by kinseys doubting thomas attitude toward the never before recorded climax of female rabbits kinsey according to pomeroy was the type of person who needed to see things for himself  pomeroy gave the example of orgasm in the female rabbit because he had not personally witnessed this event kinsey had difficulty in accepting its reality even on the strength of testimony from a distinguished scientist  how then did kinsey testify to the actuality of orgasm in a monthold infant from the mere history of a sex offender but of course he did not he depended on their records        from this fantastic alchemy of conjecture mixed with clitorides sperm attic cumshots and climaxincottontail has reisman defamed the legendary kinsey       paul gebhard succeeded kinsey as the director of the kinsey institute and now lives in retirement outside bloomington  reached by telephone gebhard defended the pedophile connection and denied reismans nasty imputations  i dont understand the resistance of people like reisman to studying the sexuality of children gebhard said more in exasperation than anger  that is where sex begins  we were happy to take data wherever we found it  even though pedophiles commit criminal acts they are usually not violent folks  they wouldnt be very successful if they were  one of our best sources was a headmaster of a boys school who maintained a kind of alumni club and sometimes went to the weddings of his former students  as for directing experiments thats absurd  we never told any of our subjects what to do  lt was against our principles  almost all of the pedophile material was retrospective anyway  nor did we ever conduct sex experiments with children ourselves  that would have been highly inappropriate         i asked gebhard if kinsey had ever seen a child in a sexual situation  i think a mother once brought in a little girl who humped her teddy bear and kinsey watched it         as for kinseys sex life it is still shrouded in confidentiality  he was married to the same woman for  years and fathered four children  apparently there are no huge sexual revelations although rumors of homosexuality have persisted without confirmation through the years  gebhard took his bosss history back in the s but he refuses to discuss what he knows  we never divulge anything about anybodys history whether dead or alive he says         reisman said no to an interview for this article on the grounds that i had once worked for penthouse not to mention the fact that we have been debating each other in various forums for the past five years  in keeping with our contentious history she took a swipe at me in her book for continuing the kinsey practice of euphemizing incest  my offense was using the biblical variant lying with a near relative in a  article on the subject of incest  as a synonym for intercourse lying with appears eight times in genesis         ed eichel is a different story  though seemingly obsessed by kinsey like his coauthor he was friendly in long conversations  he told me that he began to smell a big baised agenda in sexology when he was a student in new york universitys human sexuality program in the early s  it was literally a gay studies program for heterosexuals he says       around  eichel came upon reismans critique of kinsey and the conspiracy theory started to sink in the sex establishment was ruled by a kinseyan bisexual bund advocating the overthrow of the heterosexual norm  no wonder he was having such a rough time promoting the joy of simultaneous orgasm anything that enhanced sexual compatibility between men and women inevitably raised objections       eventually eichel exchanged philosophical fluids with reisman and from this union kinsey sex and fraud was born  eichels main contribution to the book is discovery and analysis of a kinsey conspiracy that supposedly seeks the establishment of bisexuality as the balanced sexual orientation for normal uninhibited people which by destroying the traditional family structure and normal sexual behavior would open the way for the second and more difficult step the ultimate goal of crossgenerational sex sex with children         when i pressed him for specific references to back up his outrageous contentions he said weakly you dont think kinsey is going to come right out and say that everybody is basically bisexual and should have sex with kids but this is implicit in the kinsey reports         meanwhile eichel is demanding a congressional investigation of kinsey and his data  perfect  thats just what the country needs a house unamerican sexual activities committee looking under beds and asking people if they are now or have everbeen a reader a sympathizer or god forbid a subject of dr alfred kinsey            elf   elfhalcyoncom  elf sternberg',\n",
       " 'ok phil youre right so far the evidence suggests that nixon was a victim of overzealous underlings and kennedy was a womanizing disgustoblob with a dash of megalomania after crushing the cia and fbi whos to say kennedy  wouldnt have created his own version of american friendly fascism  unfortunately however we dont have all the evidence so far this nations citizens have been privy to about  hours of the total  hours of nixons tapes whats on the rest of those babies some archivists have alluded that there is evidence to suggest that nixon and his cronies including george bush were aware of the plot to murder kennedy before he was shot in dallas  ask your local da what the charges are for the above crime   and so i must ask you phil me putz when all this shit finally comes out when you and i are old men i would appreciate the privilege of sticking a pole up your ass and parading you down main street with a sign on your chest  i was an apologist for the american fascist regime circa     hows that for a lovely brechtian image   there that ought to get a reaction unless im in his killfile this week',\n",
       " 'i appeal to to all of you to show up in washington dc this saturday to participate in a peaceful demonstration for the sake of humanity this is a  critical point in the history of world and we can make a change otherwise things will not change there in bosnia rapeskillingsethnic cleansing will go on as a norm in the days to follow the un will get to the towns after the fall of thousands of inocent civilians like in zapa just the past weekend it happened to the jews in s its happening to the muslims today and who will be the next victim  since the europeans want to remain indifferent in this issue time has come for us to take a leadership role to stop these crimes against humanity time is now and this is for real folks the people of new england bosnian relief committee seriously believe that clintons adminstration will stop supporting the bosnian cause without sustained public pressure i just called democaratic sen john kerrys office and they are saying that  he the senator is waiting for president to take a decision means that he will wait and  join the bandwagon later if it ever moves   please dont rely on others to take part in this demonstration you as an individual will make a big difference bring your families too not only you will help a great cause but also it will be fun for all i know of several families from massachusetts who are travelling friday night to participate there contact the local islamic center or bosnia relief agency if you want to travel by prearranged busses the best option  for students is to rentacar and carpool please spread the word around    regards  khalid chishti   if you live in massachusetts and want more info  call ginan from new england bosnian relief committee   or  new england bosnian relief committee phone no           ',\n",
       " 're extended ka bands  i recently bought a  band detector  you guys must all think im nuts right  well i did a little research into ka usage in this area and found out that ka is not currently being used in this state as well as surrounding states  heres how i found out   a cop friend who did spend time nailing speeders doesnt even know    what ka is  hes heard of k which is what they use here and i   explained that ka is used for photo radar etc he then said yeah   ka stands for k automatic duuhh  he then went on to say that   plans were being made for getting laser guns as far as going high   tech were concerned but he didnt know too much   my  year old  band whistler was consistently going off at speed traps   even the real sneaky ones   when i called the escort shop they confirmed that ka is not used here   or in surrounding states  they did claim that laser was being used   a lot here which i was quite skeptical of  so in the end instead of spending a lot of money andor waiting months for a state of the art detector i got a low priced high performance  band escort   incidentally its performance is equal to their top of the line model in x and k band detection  i know that escort has been surpassed by other brands lately but ive never fully relied on a detector and i was convinced that the escorts would be at least quite good which was good enough for me and my wallet ',\n",
       " 'watch your language asshole',\n",
       " '      who is josie hadas      i see you didnt notice my recent posting    the fbi found that josie hadas was simply an alias taken by salameh    i have the sources for the information in the chronology including the ny daily news of march  that reports the arrest of josie hadas and a copy of the foreign press reports of her release shortly afterwards  what is the source for your alias story  and pray tell me how can the fbi arrest and release an alias         what is the relationship between that person and the israeli mussad    zilch zero nothing like the iq of the idiot who posted this absurdity in the  first place',\n",
       " ' snip    can you imagine what happens when a magazine explodes bullets go flying every where imho these gunshot wounds were actually caused when the magazines  went up a texas ranger does not a pathologist make so ill wait for an autopsy to determine if they were shot first ',\n",
       " '  coming from an idiotcrook armenian id take that as a compliment your criminal grandparents committed unheardof crimes resorted to all conceivable methods of despotism organized massacres poured  petrol over babies and burned them raped women and girls in front of  their parents who were bound hand and foot took girls from their  mothers and fathers and appropriated personal property and real estate  and today they put azeris in the most unbearable conditions any other  nation had ever known in history                                 source john dewey the new republic vol  nov   pp   they armenians traitorously turned turkish cities over to the russian   invader that they boasted of having raised an army of one hundred and  fifty thousand men to fight a civil war and that they burned at least  a hundred turkish villages and exterminated their population    some of the references from eminent authors in the field of middleeastern  history and eyewitnesses of the armenian genocide of  million muslims   the armenian revolutionary movement by louise nalbandian    university of california press berkeley los angeles    diplomacy of imperialism  by william i lenger professor    of history harward university boston alfred a knopt new york    turkey in europe by sir charles elliot     edward  arnold london    the chatnam house version and other middleeastern studies by    elie kedouri praeger publishers new york washington    the rising crescent by ernest jackh    farrar  reinhart inc new york  toronto    spiritual and political evolutions in islam by felix valyi    mogan paul trench  truebner  co london    the struggle for power in moslem asia by e alexander powell    the century co new york london    struggle for transcaucasia by feruz kazemzadeh    yale university press new haven conn    history of the ottoman empire and modern turkey  volumes by    stanford j shaw cambridge university press cambridge new york    melbourne   the western question in greece and turkey by arnold j toynbee    constable  co ltd london bombay  sydney   the caliphs last heritage by sir mark sykes    macmillan  co london   men are like that by leonard a hartill    bobbs co indianapolis   adventures in the near east  by a rawlinson    dodd meade  co   world alive a personal story by robert dunn    crown publishers inc new york   from sardarapat to serves and lousanne by avetis aharonian    the armenian review magazine volume  fall  through      spring   armenia on the road to independence by richard g hovanessian    university of california press berkeley california   the rebirth of turkey by clair price    thomas seltzer new york   caucasian battlefields by w b allen  paul muratoff    cambridge   partition of turkey by harry n howard    h fertig new york      the kingcrane commission by harry n howard    beirut   united states policy and partition of turkey by laurence evans    john hopkins university press baltimore   british documents related to turkish war of independence by gothard     jaeschke        neside kerem demir bir sehid anasina tarihin soyledikleri     turkiyenin ermeni meselesi hulbe basim ve yayin tas     ankara  ingilizce birinci baski  the armenian     question in turkey   veysel eroglu ermeni mezalimi sebil yayinevi istanbul    a alper gazigiray osmanlilardan gunumuze kadar vesikalarla ermeni    terorunun kaynaklari gozen kitabevi istanbul    dr kirzioglu m fahrettin kars ili ve cevresinde ermeni mezalimi    kardes matbaasi ankara    tc basbakanlik osmanli arsivi babiali istanbul  a yildiz esas evraki b yildiz perakende c irade defterleri d cemaati gayri muslime defterleri e meclisi vukela mazbatalari f dahiliye nezareti kalemi mahsus dosyalari g dahiliye nezareti sifre defterleri h babiali evrak odasi siyasi kartonlar i babiali evrak odasi muhimme kartonlari  tc disisleri bakanligi hazinei evrak defterdarlik    a harbi umumi b muteferrik kartonlar  british archives  a parliamentary papers hansard commonslords b foreign office confidential print various collections c foreign office  turkey correspondence  annual reports d foreign office  e foreign office  political intelligence general correspondence f foreign office  ryan papers g foreign office  curzon papers h foreign office  the eastern conference lausanne  files  india office records and library blackfriars road london  a lpolitical and security five boxes turkey treaty of    peace  b lp  s near east turkey and greece lausanne conference     c lp  s d lp  s  french archives  archives du ministere des affaires entrangeres quai dorsay paris  a documents diplomatiques affaires armeniens  collections b guerre  turquie legion dorient c levant  armenie   official publications published documents diplomatic correspondence agreements minutes and others  a turkey the ottoman empire and the republic of turkey  akarli e ed belgelerle tanzimat istanbul  gn kur atase askeri tarih belgeleri dergisi v xxxi  dec   askeri tarih belgeleri dergisi v xxxii  dec  hocaoglu m ed ittihadi anasiri osmaniye heyeti nizamnamesi istanbul  meray s l transed lozan baris konferansi tutanaklarbelgeler ankara   vols meray s lo olcay ed osmanli imparatorlugunun cokus belgeleri mondros birakismasi sevr andlasmasi ilgili belgeler ankara  osmanli devleti dahiliye nezareti aspirations et agissements  revolutionnaires des comites armeniens avant et apres la proclamation de la constitution ottomane istanbul   ermeni komitelerinin amal ve hareketi ihtilaliyesi ilani mesrutiyetten evvel ve sonra istanbul   idarei umumiye ve vilayet kanunu istanbul   muharrerati umumiye mecmuasi v i istanbul   muharrerati umumiye mecmuasi v ii istanbul   muharrerati umumiye mecmuasi v iii istanbul   muharrerati umumiye mecmuasi v iv istanbul  osmanli devleti hariciye nezareti imtiyazati ecnebiyyenin lagvindan dolayi memurine teblig olunacak talimatname istanbul  osmanli devleti harbiye nezareti islam ahalinin ducar olduklari mezalim hakkinda vesaike mustenid malumat istanbul   iv ordu aliye divani harbi orfisinde tedkik olunan meseleyi siyasiye hakkinda izahat istanbul  turkozu h k ed osmanli ve sovyet belgeleriyle ermeni mezalimi ankara   turkiye buyuk millet meclisi gizli celse zabitlari ankara   vols  russia  adamof e e ed sovyet devlet arsivi belgeleriyle anadolunun  taksimi plani tran h rahmi ed h mutlucag istanbul   altinay a r iki komite  iki kital istanbul   kafkas yollarinda hatiralar ve tahassusler istanbul   turkiyede katolik propagandasi turk tarihi encumeni mecmuasi v xiv sept  asaf muammer harb ve mesulleri istanbul  akboy c birinci dunya harbinde turk harbi v i osmanli imparatorlugunun siyasi ve askeri hazirliklari ve harbe girisi gn kur ankara  akgun s general harbordun anadolu gezisi ve ermeni meselesine dair raporu kurtulus savasi baslangicinda istanbul  akin i turk devrim tarihi istanbul  aksin s jon turkler ve ittihad ve terakki istanbul  basar z edermenilerden gorduklerimiz ankara   ermeniler hakkinda makaleler  derlemeler ankara  belen f birinci dunya harbinde turk harbi ankara  deliorman a turklere karsi ermeni komitecileri istanbul  ege n n ed prens sabahaddin hayati ve ilmi mudafaalari istanbul  ercikan a ermenilerin bizans ve osmanli imparatorluklarindaki rolleri ankara  gurun k ermeni sorunu yahut bir sorun nasil yaratilir turk tarihinde ermeniler sempozyumu izmir  hocaoglu m arsiv vesikalariyla tarihte ermeni mezalimi ve ermeniler istanbul  karal e s osmanli tarihi v v  th ed v vi  nd ed v vii  nd ed v viii  nd ed ankara kurat y t osmanli imparatorlugunun paylasilmasi ankara  orel ss yuca ermenilerce talat pasaya atfedilen telgraflarin icyuzu ankara  also in english translation ahmad f the young turks the committee of union and progress in turkish politics oxford   serdar argic',\n",
       " ' whatever the above comment has to do with the hazards of fighting a fire in the midst of ammo cooking off maybe the fire department was loudly complaining the whole time about being diverted from their other duties and the fbi said fine go home and well call you if we need you  a million things could have happened we dont know  btw this is the first time i have heard that the waco fd was on scene for all but the last  days  whats the source out of curiosity   ']"
      ]
     },
     "execution_count": 16,
     "metadata": {},
     "output_type": "execute_result"
    }
   ],
   "source": [
    "corpus_preprocessed[:10]"
   ]
  },
  {
   "cell_type": "code",
   "execution_count": 17,
   "id": "27ab6513",
   "metadata": {},
   "outputs": [],
   "source": [
    "tokens = [email.split() for email in corpus_preprocessed]"
   ]
  },
  {
   "cell_type": "markdown",
   "id": "3c749703",
   "metadata": {},
   "source": [
    "## Construcción de representación TF-IDF"
   ]
  },
  {
   "cell_type": "code",
   "execution_count": 18,
   "id": "aaf642b1",
   "metadata": {},
   "outputs": [],
   "source": [
    "vectorizer = TfidfVectorizer()"
   ]
  },
  {
   "cell_type": "code",
   "execution_count": 19,
   "id": "ebe7f43a",
   "metadata": {},
   "outputs": [],
   "source": [
    "X = vectorizer.fit_transform(corpus_preprocessed)\n"
   ]
  },
  {
   "cell_type": "code",
   "execution_count": 20,
   "id": "87528bd5",
   "metadata": {},
   "outputs": [
    {
     "data": {
      "text/plain": [
       "array(['aa', 'aaa', 'aaaaaaaaaaaa', ..., 'zwischen', 'zx', 'zxr'],\n",
       "      dtype=object)"
      ]
     },
     "execution_count": 20,
     "metadata": {},
     "output_type": "execute_result"
    }
   ],
   "source": [
    "vectorizer.get_feature_names_out()"
   ]
  },
  {
   "cell_type": "code",
   "execution_count": 21,
   "id": "bc87db7a",
   "metadata": {},
   "outputs": [
    {
     "data": {
      "text/plain": [
       "(3615, 35198)"
      ]
     },
     "execution_count": 21,
     "metadata": {},
     "output_type": "execute_result"
    }
   ],
   "source": [
    "X.shape"
   ]
  },
  {
   "cell_type": "code",
   "execution_count": 22,
   "id": "b6764b09",
   "metadata": {},
   "outputs": [],
   "source": [
    "def get_top_terms_for_document(document, amount=5):\n",
    "    row = vectorizer.transform([document])\n",
    "    row = row.tocsr()[0]\n",
    "\n",
    "    order = np.argsort(row.data)[::-1]\n",
    "    top_ids = row.indices[order][:amount]\n",
    "    top_scores = row.data[order][:amount]\n",
    "\n",
    "    features = vectorizer.get_feature_names_out()\n",
    "    \n",
    "    return list(zip(features[top_ids], top_scores))"
   ]
  },
  {
   "cell_type": "code",
   "execution_count": 23,
   "id": "5d65399f",
   "metadata": {},
   "outputs": [],
   "source": [
    "random.seed(327)\n",
    "doc_indices = random.sample(range(len(corpus_preprocessed)), 3)"
   ]
  },
  {
   "cell_type": "code",
   "execution_count": 24,
   "id": "93f39636",
   "metadata": {},
   "outputs": [],
   "source": [
    "corpus_sample = [corpus_preprocessed[idx] for idx in doc_indices]"
   ]
  },
  {
   "cell_type": "code",
   "execution_count": 25,
   "id": "8e6c2e57",
   "metadata": {},
   "outputs": [
    {
     "name": "stdout",
     "output_type": "stream",
     "text": [
      "\n",
      "Documento: wow i hadnt realized how venomous this was getting  be careful herethe problem isnt the rich but the values and the systems that make the rich rich  things are designed in such a way that in order to go with the system and make money everything else we care about goes to shit  i have to constantly remind myself that the goal of human society is not to make money  money doesnt make us happy it just prevents certain things making us more unhappy  therefore dont shoot the rich  shoot the conservatives  drewcifer — top términos TF-IDF:\n",
      "  rich                 0.4764\n",
      "  money                0.2636\n",
      "  make                 0.2499\n",
      "  shoot                0.2198\n",
      "  the                  0.1952\n",
      "\n",
      "Documento:  anas a high rank israeli officer was killed during a clash whith a hamas anas mujahid  the terrorist israelis chased and killed a young mujahid anas using antitank missiles  the terrorist zionists cut the mujahids anas body into small pieces to the extend that his body was not recognized anas at leat ten houses were destroyed by these atnitank missiles  if indeed israeli soldiers killed a hamas mujahid with an antitank missile then im almost sure that the terrorist zionists would not have been able to cut up a body which was probably desintegrated by the missile  stop polluting the net with you fantasies  tsiel — top términos TF-IDF:\n",
      "  anas                 0.5051\n",
      "  mujahid              0.3507\n",
      "  terrorist            0.2324\n",
      "  missiles             0.2020\n",
      "  missile              0.2020\n",
      "\n",
      "Documento: i dont want to attack anyones personal opinions and thus have not included any articles  but it seems to me incredibly ridiculous and pompous for someone to sit back with the benefit of hindsight and point fingers at clinton reno the fbi or whomever  first of all it is a kneejerk judgement  the facts are quite muddled at this point and will likely be for quite a while  secondly things do not improve by pointing blame and accusatory fingers  pointing fingers is a destructive action  if everyone sat around pointing fingers all the time nothing would get done and nothing would ever get any better  and despite the tragedy we can learn something from this  if it is approached in a  constructive manner  doesnt it seem that working together is more productive than working against one another  thirdly it seems incredibly hypocritical to place blame given the benefit of hindsight  something that those who made the decisions did not have the benefit of  why not give them the courtesy of acknowledging that they did the best they could with the data they had  in a very very difficult situation  some responses have gone so far to suggest that the actions were done without regard for the lives of the people in the compound  give me a break  be part of the solution  not the problem  and thats my opinion  — top términos TF-IDF:\n",
      "  fingers              0.3853\n",
      "  the                  0.2584\n",
      "  pointing             0.2260\n",
      "  benefit              0.2175\n",
      "  hindsight            0.2075\n"
     ]
    }
   ],
   "source": [
    "for document in corpus_sample:\n",
    "    tops = get_top_terms_for_document(document, amount=5)\n",
    "\n",
    "    print(f\"\\nDocumento: {document} — top términos TF-IDF:\")\n",
    "    for term, score in tops:\n",
    "        print(f\"  {term:20s} {score:.4f}\")"
   ]
  },
  {
   "cell_type": "markdown",
   "id": "f42deecf",
   "metadata": {},
   "source": [
    "### Palabras con mayor peso en algunos documentos."
   ]
  },
  {
   "cell_type": "markdown",
   "id": "4cebb77c",
   "metadata": {},
   "source": [
    "**Doc 1**: Los términos reflejan una discusión probablemente sobre riqueza, donde además aparece un término cargado `shoot` que puede cambiar el tono.\n",
    "\n",
    "**Doc 2**: Es evidente que el texto trata sobre terrorismo y conflictos bélicos. Aquí TF-IDF funciona muy bien porque resalta términos muy específicos y técnicos del tema, los cuales difícilmente aparecerán en documentos de autos.\n",
    "\n",
    "**Doc 3**: Aunque son palabras más comunes, muestra cómo TF-IDF puede resaltar vocabulario particular aunque no sea estrictamente técnico, ayudando a identificar la idea principal o el estilo del texto.\n",
    "\n",
    "En general, se observa que TF-IDF prioriza vocabulario distintivo: nombres propios o términos específicos de un conflicto. Además, el alto peso de estas palabras indica que son poco frecuentes en el resto del corpus pero muy relevantes en los documentos en particular donde fueron analizados."
   ]
  },
  {
   "cell_type": "markdown",
   "id": "fa828d76",
   "metadata": {},
   "source": [
    "### Limitaciones de TF-IDF respecto a la semántica"
   ]
  },
  {
   "cell_type": "markdown",
   "id": "040f54e5",
   "metadata": {},
   "source": [
    "* **No captura relaciones entre palabras**:\n",
    "Es muy evidente el caso en el **Doc 2** donde aparecen `missile` y `missiles` como términos separados, cuando semánticamente son lo mismo.\n",
    "\n",
    "* **Ignora sinónimos**:\n",
    "Por ejemplo, si en lugar de `money` se usara `cash`, TF-IDF lo trataría como palabra totalmente distinta, sin reconocer que ambos se refieren a lo mismo. Lo mismo con `missiles` y `rockets`.\n",
    "\n",
    "* **No entiende contexto**:\n",
    "El término `shoot` en **Doc 3** podría referirse a disparar, a una sesión de fotos o incluso a una expresión coloquial. TF-IDF no distingue estos significados, solo ve frecuencia.\n",
    "\n",
    "* **Sensibilidad a términos comunes**:\n",
    "Palabras como `the` aparecen en los tops porque, aunque muy frecuentes en general, pueden quedar con peso significativo si en ese documento tienen una proporción mayor que en otros. Esto puede “ensuciar” el análisis semántico.\n"
   ]
  },
  {
   "cell_type": "markdown",
   "id": "dddebbdb",
   "metadata": {},
   "source": [
    "## Construcción de representación PPMI"
   ]
  },
  {
   "cell_type": "markdown",
   "id": "ff63868e",
   "metadata": {},
   "source": [
    "La implementación de ambos métodos se basó en una discusión de **Stack Overflow**: https://stackoverflow.com/questions/58701337/how-to-construct-ppmi-matrix-from-a-text-corpus"
   ]
  },
  {
   "cell_type": "markdown",
   "id": "77194e80",
   "metadata": {},
   "source": [
    "Para los resultados, se muestra los mismos 3 documentos analizados anteriormente."
   ]
  },
  {
   "cell_type": "markdown",
   "id": "2d2588c6",
   "metadata": {},
   "source": [
    "### Construya una matriz de co-ocurrencia palabra-contexto con ventana deslizante."
   ]
  },
  {
   "cell_type": "code",
   "execution_count": 26,
   "id": "2bbfb6aa",
   "metadata": {},
   "outputs": [],
   "source": [
    "def co_occurrence_df(sentences, window_size=2, top_k=800):\n",
    "    tokenized_docs = [s.split() for s in sentences]\n",
    "    unigrams = Counter()\n",
    "    for toks in tokenized_docs:\n",
    "        unigrams.update([t for t in toks])\n",
    "    vocab = [w for w,_ in unigrams.most_common(top_k)]\n",
    "    vocab_set = set(vocab)\n",
    "\n",
    "    co_counts = defaultdict(Counter)\n",
    "    for toks in tokenized_docs:\n",
    "        n = len(toks)\n",
    "        for i, w in enumerate(toks):\n",
    "            if w not in vocab_set:\n",
    "                continue\n",
    "            L = max(0, i - window_size)\n",
    "            R = min(n, i + window_size + 1)\n",
    "            ctx = toks[L:i] + toks[i+1:R]\n",
    "            for c in ctx:\n",
    "                if c in vocab_set:\n",
    "                    co_counts[w][c] += 1\n",
    "\n",
    "    df = pd.DataFrame(0, index=vocab, columns=vocab, dtype=np.int32)\n",
    "    for w, row in co_counts.items():\n",
    "        for c, cnt in row.items():\n",
    "            df.at[w, c] = cnt\n",
    "    return df"
   ]
  },
  {
   "cell_type": "code",
   "execution_count": 27,
   "id": "088e5082",
   "metadata": {},
   "outputs": [],
   "source": [
    "def co_occurrence(sentences, window_size):\n",
    "    d = defaultdict(int)\n",
    "    vocab = set()\n",
    "    for text in sentences:\n",
    "        # preprocessing (use tokenizer instead)\n",
    "        text = text.lower().split()\n",
    "        # iterate over sentences\n",
    "        for i in range(len(text)):\n",
    "            token = text[i]\n",
    "            vocab.add(token)  # add to vocab\n",
    "            next_token = text[i+1 : i+1+window_size]\n",
    "            for t in next_token:\n",
    "                key = tuple( sorted([t, token]) )\n",
    "                d[key] += 1\n",
    "    \n",
    "    # formulate the dictionary into dataframe\n",
    "    vocab = sorted(vocab) # sort vocab\n",
    "    df = pd.DataFrame(data=np.zeros((len(vocab), len(vocab)), dtype=np.int16),\n",
    "                      index=vocab,\n",
    "                      columns=vocab)\n",
    "    for key, value in d.items():\n",
    "        df.at[key[0], key[1]] = value\n",
    "        df.at[key[1], key[0]] = value\n",
    "    return df"
   ]
  },
  {
   "cell_type": "code",
   "execution_count": 28,
   "id": "8d290aed",
   "metadata": {},
   "outputs": [],
   "source": [
    "co_occurrence_matrix = co_occurrence(corpus_sample[:1], window_size=2)"
   ]
  },
  {
   "cell_type": "code",
   "execution_count": 29,
   "id": "42ec63d6",
   "metadata": {},
   "outputs": [
    {
     "data": {
      "text/html": [
       "<div>\n",
       "<style scoped>\n",
       "    .dataframe tbody tr th:only-of-type {\n",
       "        vertical-align: middle;\n",
       "    }\n",
       "\n",
       "    .dataframe tbody tr th {\n",
       "        vertical-align: top;\n",
       "    }\n",
       "\n",
       "    .dataframe thead th {\n",
       "        text-align: right;\n",
       "    }\n",
       "</style>\n",
       "<table border=\"1\" class=\"dataframe\">\n",
       "  <thead>\n",
       "    <tr style=\"text-align: right;\">\n",
       "      <th></th>\n",
       "      <th>a</th>\n",
       "      <th>about</th>\n",
       "      <th>and</th>\n",
       "      <th>are</th>\n",
       "      <th>be</th>\n",
       "      <th>but</th>\n",
       "      <th>care</th>\n",
       "      <th>careful</th>\n",
       "      <th>certain</th>\n",
       "      <th>conservatives</th>\n",
       "      <th>...</th>\n",
       "      <th>to</th>\n",
       "      <th>unhappy</th>\n",
       "      <th>us</th>\n",
       "      <th>values</th>\n",
       "      <th>venomous</th>\n",
       "      <th>was</th>\n",
       "      <th>way</th>\n",
       "      <th>we</th>\n",
       "      <th>with</th>\n",
       "      <th>wow</th>\n",
       "    </tr>\n",
       "  </thead>\n",
       "  <tbody>\n",
       "    <tr>\n",
       "      <th>a</th>\n",
       "      <td>0</td>\n",
       "      <td>0</td>\n",
       "      <td>0</td>\n",
       "      <td>0</td>\n",
       "      <td>0</td>\n",
       "      <td>0</td>\n",
       "      <td>0</td>\n",
       "      <td>0</td>\n",
       "      <td>0</td>\n",
       "      <td>0</td>\n",
       "      <td>...</td>\n",
       "      <td>0</td>\n",
       "      <td>0</td>\n",
       "      <td>0</td>\n",
       "      <td>0</td>\n",
       "      <td>0</td>\n",
       "      <td>0</td>\n",
       "      <td>1</td>\n",
       "      <td>0</td>\n",
       "      <td>0</td>\n",
       "      <td>0</td>\n",
       "    </tr>\n",
       "    <tr>\n",
       "      <th>about</th>\n",
       "      <td>0</td>\n",
       "      <td>0</td>\n",
       "      <td>0</td>\n",
       "      <td>0</td>\n",
       "      <td>0</td>\n",
       "      <td>0</td>\n",
       "      <td>1</td>\n",
       "      <td>0</td>\n",
       "      <td>0</td>\n",
       "      <td>0</td>\n",
       "      <td>...</td>\n",
       "      <td>1</td>\n",
       "      <td>0</td>\n",
       "      <td>0</td>\n",
       "      <td>0</td>\n",
       "      <td>0</td>\n",
       "      <td>0</td>\n",
       "      <td>0</td>\n",
       "      <td>1</td>\n",
       "      <td>0</td>\n",
       "      <td>0</td>\n",
       "    </tr>\n",
       "    <tr>\n",
       "      <th>and</th>\n",
       "      <td>0</td>\n",
       "      <td>0</td>\n",
       "      <td>0</td>\n",
       "      <td>0</td>\n",
       "      <td>0</td>\n",
       "      <td>0</td>\n",
       "      <td>0</td>\n",
       "      <td>0</td>\n",
       "      <td>0</td>\n",
       "      <td>0</td>\n",
       "      <td>...</td>\n",
       "      <td>0</td>\n",
       "      <td>0</td>\n",
       "      <td>0</td>\n",
       "      <td>1</td>\n",
       "      <td>0</td>\n",
       "      <td>0</td>\n",
       "      <td>0</td>\n",
       "      <td>0</td>\n",
       "      <td>0</td>\n",
       "      <td>0</td>\n",
       "    </tr>\n",
       "    <tr>\n",
       "      <th>are</th>\n",
       "      <td>0</td>\n",
       "      <td>0</td>\n",
       "      <td>0</td>\n",
       "      <td>0</td>\n",
       "      <td>0</td>\n",
       "      <td>0</td>\n",
       "      <td>0</td>\n",
       "      <td>0</td>\n",
       "      <td>0</td>\n",
       "      <td>0</td>\n",
       "      <td>...</td>\n",
       "      <td>0</td>\n",
       "      <td>0</td>\n",
       "      <td>0</td>\n",
       "      <td>0</td>\n",
       "      <td>0</td>\n",
       "      <td>0</td>\n",
       "      <td>0</td>\n",
       "      <td>0</td>\n",
       "      <td>0</td>\n",
       "      <td>0</td>\n",
       "    </tr>\n",
       "    <tr>\n",
       "      <th>be</th>\n",
       "      <td>0</td>\n",
       "      <td>0</td>\n",
       "      <td>0</td>\n",
       "      <td>0</td>\n",
       "      <td>0</td>\n",
       "      <td>0</td>\n",
       "      <td>0</td>\n",
       "      <td>1</td>\n",
       "      <td>0</td>\n",
       "      <td>0</td>\n",
       "      <td>...</td>\n",
       "      <td>0</td>\n",
       "      <td>0</td>\n",
       "      <td>0</td>\n",
       "      <td>0</td>\n",
       "      <td>0</td>\n",
       "      <td>1</td>\n",
       "      <td>0</td>\n",
       "      <td>0</td>\n",
       "      <td>0</td>\n",
       "      <td>0</td>\n",
       "    </tr>\n",
       "    <tr>\n",
       "      <th>...</th>\n",
       "      <td>...</td>\n",
       "      <td>...</td>\n",
       "      <td>...</td>\n",
       "      <td>...</td>\n",
       "      <td>...</td>\n",
       "      <td>...</td>\n",
       "      <td>...</td>\n",
       "      <td>...</td>\n",
       "      <td>...</td>\n",
       "      <td>...</td>\n",
       "      <td>...</td>\n",
       "      <td>...</td>\n",
       "      <td>...</td>\n",
       "      <td>...</td>\n",
       "      <td>...</td>\n",
       "      <td>...</td>\n",
       "      <td>...</td>\n",
       "      <td>...</td>\n",
       "      <td>...</td>\n",
       "      <td>...</td>\n",
       "      <td>...</td>\n",
       "    </tr>\n",
       "    <tr>\n",
       "      <th>was</th>\n",
       "      <td>0</td>\n",
       "      <td>0</td>\n",
       "      <td>0</td>\n",
       "      <td>0</td>\n",
       "      <td>1</td>\n",
       "      <td>0</td>\n",
       "      <td>0</td>\n",
       "      <td>0</td>\n",
       "      <td>0</td>\n",
       "      <td>0</td>\n",
       "      <td>...</td>\n",
       "      <td>0</td>\n",
       "      <td>0</td>\n",
       "      <td>0</td>\n",
       "      <td>0</td>\n",
       "      <td>1</td>\n",
       "      <td>0</td>\n",
       "      <td>0</td>\n",
       "      <td>0</td>\n",
       "      <td>0</td>\n",
       "      <td>0</td>\n",
       "    </tr>\n",
       "    <tr>\n",
       "      <th>way</th>\n",
       "      <td>1</td>\n",
       "      <td>0</td>\n",
       "      <td>0</td>\n",
       "      <td>0</td>\n",
       "      <td>0</td>\n",
       "      <td>0</td>\n",
       "      <td>0</td>\n",
       "      <td>0</td>\n",
       "      <td>0</td>\n",
       "      <td>0</td>\n",
       "      <td>...</td>\n",
       "      <td>0</td>\n",
       "      <td>0</td>\n",
       "      <td>0</td>\n",
       "      <td>0</td>\n",
       "      <td>0</td>\n",
       "      <td>0</td>\n",
       "      <td>0</td>\n",
       "      <td>0</td>\n",
       "      <td>0</td>\n",
       "      <td>0</td>\n",
       "    </tr>\n",
       "    <tr>\n",
       "      <th>we</th>\n",
       "      <td>0</td>\n",
       "      <td>1</td>\n",
       "      <td>0</td>\n",
       "      <td>0</td>\n",
       "      <td>0</td>\n",
       "      <td>0</td>\n",
       "      <td>1</td>\n",
       "      <td>0</td>\n",
       "      <td>0</td>\n",
       "      <td>0</td>\n",
       "      <td>...</td>\n",
       "      <td>0</td>\n",
       "      <td>0</td>\n",
       "      <td>0</td>\n",
       "      <td>0</td>\n",
       "      <td>0</td>\n",
       "      <td>0</td>\n",
       "      <td>0</td>\n",
       "      <td>0</td>\n",
       "      <td>0</td>\n",
       "      <td>0</td>\n",
       "    </tr>\n",
       "    <tr>\n",
       "      <th>with</th>\n",
       "      <td>0</td>\n",
       "      <td>0</td>\n",
       "      <td>0</td>\n",
       "      <td>0</td>\n",
       "      <td>0</td>\n",
       "      <td>0</td>\n",
       "      <td>0</td>\n",
       "      <td>0</td>\n",
       "      <td>0</td>\n",
       "      <td>0</td>\n",
       "      <td>...</td>\n",
       "      <td>1</td>\n",
       "      <td>0</td>\n",
       "      <td>0</td>\n",
       "      <td>0</td>\n",
       "      <td>0</td>\n",
       "      <td>0</td>\n",
       "      <td>0</td>\n",
       "      <td>0</td>\n",
       "      <td>0</td>\n",
       "      <td>0</td>\n",
       "    </tr>\n",
       "    <tr>\n",
       "      <th>wow</th>\n",
       "      <td>0</td>\n",
       "      <td>0</td>\n",
       "      <td>0</td>\n",
       "      <td>0</td>\n",
       "      <td>0</td>\n",
       "      <td>0</td>\n",
       "      <td>0</td>\n",
       "      <td>0</td>\n",
       "      <td>0</td>\n",
       "      <td>0</td>\n",
       "      <td>...</td>\n",
       "      <td>0</td>\n",
       "      <td>0</td>\n",
       "      <td>0</td>\n",
       "      <td>0</td>\n",
       "      <td>0</td>\n",
       "      <td>0</td>\n",
       "      <td>0</td>\n",
       "      <td>0</td>\n",
       "      <td>0</td>\n",
       "      <td>0</td>\n",
       "    </tr>\n",
       "  </tbody>\n",
       "</table>\n",
       "<p>67 rows × 67 columns</p>\n",
       "</div>"
      ],
      "text/plain": [
       "       a  about  and  are  be  but  care  careful  certain  conservatives  \\\n",
       "a      0      0    0    0   0    0     0        0        0              0   \n",
       "about  0      0    0    0   0    0     1        0        0              0   \n",
       "and    0      0    0    0   0    0     0        0        0              0   \n",
       "are    0      0    0    0   0    0     0        0        0              0   \n",
       "be     0      0    0    0   0    0     0        1        0              0   \n",
       "...   ..    ...  ...  ...  ..  ...   ...      ...      ...            ...   \n",
       "was    0      0    0    0   1    0     0        0        0              0   \n",
       "way    1      0    0    0   0    0     0        0        0              0   \n",
       "we     0      1    0    0   0    0     1        0        0              0   \n",
       "with   0      0    0    0   0    0     0        0        0              0   \n",
       "wow    0      0    0    0   0    0     0        0        0              0   \n",
       "\n",
       "       ...  to  unhappy  us  values  venomous  was  way  we  with  wow  \n",
       "a      ...   0        0   0       0         0    0    1   0     0    0  \n",
       "about  ...   1        0   0       0         0    0    0   1     0    0  \n",
       "and    ...   0        0   0       1         0    0    0   0     0    0  \n",
       "are    ...   0        0   0       0         0    0    0   0     0    0  \n",
       "be     ...   0        0   0       0         0    1    0   0     0    0  \n",
       "...    ...  ..      ...  ..     ...       ...  ...  ...  ..   ...  ...  \n",
       "was    ...   0        0   0       0         1    0    0   0     0    0  \n",
       "way    ...   0        0   0       0         0    0    0   0     0    0  \n",
       "we     ...   0        0   0       0         0    0    0   0     0    0  \n",
       "with   ...   1        0   0       0         0    0    0   0     0    0  \n",
       "wow    ...   0        0   0       0         0    0    0   0     0    0  \n",
       "\n",
       "[67 rows x 67 columns]"
      ]
     },
     "execution_count": 29,
     "metadata": {},
     "output_type": "execute_result"
    }
   ],
   "source": [
    "co_occurrence_matrix"
   ]
  },
  {
   "cell_type": "markdown",
   "id": "741f9e33",
   "metadata": {},
   "source": [
    "### Calcule la matriz PPMI"
   ]
  },
  {
   "cell_type": "code",
   "execution_count": 30,
   "id": "3f823e37",
   "metadata": {},
   "outputs": [],
   "source": [
    "def to_ppmi(df: pd.DataFrame) -> pd.DataFrame:\n",
    "    row_tot = df.sum(axis=1).astype(float)\n",
    "    col_tot = df.sum(axis=0).astype(float)\n",
    "    total = col_tot.sum()\n",
    "\n",
    "    expected = np.outer(row_tot.values, col_tot.values) / (total if total>0 else 1.0)\n",
    "    with np.errstate(divide='ignore'):\n",
    "        ratio = df.values / expected\n",
    "        pmi = np.log2(ratio, where=(ratio>0))\n",
    "    pmi[~np.isfinite(pmi)] = 0.0\n",
    "    pmi[pmi < 0] = 0.0\n",
    "    return pd.DataFrame(pmi, index=df.index, columns=df.columns, dtype=np.float32)\n"
   ]
  },
  {
   "cell_type": "code",
   "execution_count": 31,
   "id": "3c98b020",
   "metadata": {},
   "outputs": [],
   "source": [
    "def pmi(df, positive=True):\n",
    "    col_totals = df.sum(axis=0)\n",
    "    total = col_totals.sum()\n",
    "    row_totals = df.sum(axis=1)\n",
    "    expected = np.outer(row_totals, col_totals) / total\n",
    "    df = df / expected\n",
    "    # Silence distracting warnings about log(0):\n",
    "    with np.errstate(divide='ignore'):\n",
    "        df = np.log(df)\n",
    "    df[np.isinf(df)] = 0.0  # log(0) = 0\n",
    "    if positive:\n",
    "        df[df < 0] = 0.0\n",
    "    return df"
   ]
  },
  {
   "cell_type": "code",
   "execution_count": 32,
   "id": "cdd78110",
   "metadata": {},
   "outputs": [],
   "source": [
    "ppmi = pmi(co_occurrence_matrix)"
   ]
  },
  {
   "cell_type": "code",
   "execution_count": 33,
   "id": "1635d4e5",
   "metadata": {},
   "outputs": [
    {
     "data": {
      "text/html": [
       "<div>\n",
       "<style scoped>\n",
       "    .dataframe tbody tr th:only-of-type {\n",
       "        vertical-align: middle;\n",
       "    }\n",
       "\n",
       "    .dataframe tbody tr th {\n",
       "        vertical-align: top;\n",
       "    }\n",
       "\n",
       "    .dataframe thead th {\n",
       "        text-align: right;\n",
       "    }\n",
       "</style>\n",
       "<table border=\"1\" class=\"dataframe\">\n",
       "  <thead>\n",
       "    <tr style=\"text-align: right;\">\n",
       "      <th></th>\n",
       "      <th>a</th>\n",
       "      <th>about</th>\n",
       "      <th>and</th>\n",
       "      <th>are</th>\n",
       "      <th>be</th>\n",
       "      <th>but</th>\n",
       "      <th>care</th>\n",
       "      <th>careful</th>\n",
       "      <th>certain</th>\n",
       "      <th>conservatives</th>\n",
       "      <th>...</th>\n",
       "      <th>to</th>\n",
       "      <th>unhappy</th>\n",
       "      <th>us</th>\n",
       "      <th>values</th>\n",
       "      <th>venomous</th>\n",
       "      <th>was</th>\n",
       "      <th>way</th>\n",
       "      <th>we</th>\n",
       "      <th>with</th>\n",
       "      <th>wow</th>\n",
       "    </tr>\n",
       "  </thead>\n",
       "  <tbody>\n",
       "    <tr>\n",
       "      <th>a</th>\n",
       "      <td>0.000000</td>\n",
       "      <td>0.000000</td>\n",
       "      <td>0.0</td>\n",
       "      <td>0.0</td>\n",
       "      <td>0.000000</td>\n",
       "      <td>0.0</td>\n",
       "      <td>0.000000</td>\n",
       "      <td>0.000000</td>\n",
       "      <td>0.0</td>\n",
       "      <td>0.0</td>\n",
       "      <td>...</td>\n",
       "      <td>0.000000</td>\n",
       "      <td>0.0</td>\n",
       "      <td>0.0</td>\n",
       "      <td>0.000000</td>\n",
       "      <td>0.000000</td>\n",
       "      <td>0.000000</td>\n",
       "      <td>3.124565</td>\n",
       "      <td>0.000000</td>\n",
       "      <td>0.0</td>\n",
       "      <td>0.0</td>\n",
       "    </tr>\n",
       "    <tr>\n",
       "      <th>about</th>\n",
       "      <td>0.000000</td>\n",
       "      <td>0.000000</td>\n",
       "      <td>0.0</td>\n",
       "      <td>0.0</td>\n",
       "      <td>0.000000</td>\n",
       "      <td>0.0</td>\n",
       "      <td>3.124565</td>\n",
       "      <td>0.000000</td>\n",
       "      <td>0.0</td>\n",
       "      <td>0.0</td>\n",
       "      <td>...</td>\n",
       "      <td>1.738271</td>\n",
       "      <td>0.0</td>\n",
       "      <td>0.0</td>\n",
       "      <td>0.000000</td>\n",
       "      <td>0.000000</td>\n",
       "      <td>0.000000</td>\n",
       "      <td>0.000000</td>\n",
       "      <td>3.124565</td>\n",
       "      <td>0.0</td>\n",
       "      <td>0.0</td>\n",
       "    </tr>\n",
       "    <tr>\n",
       "      <th>and</th>\n",
       "      <td>0.000000</td>\n",
       "      <td>0.000000</td>\n",
       "      <td>0.0</td>\n",
       "      <td>0.0</td>\n",
       "      <td>0.000000</td>\n",
       "      <td>0.0</td>\n",
       "      <td>0.000000</td>\n",
       "      <td>0.000000</td>\n",
       "      <td>0.0</td>\n",
       "      <td>0.0</td>\n",
       "      <td>...</td>\n",
       "      <td>0.000000</td>\n",
       "      <td>0.0</td>\n",
       "      <td>0.0</td>\n",
       "      <td>2.431418</td>\n",
       "      <td>0.000000</td>\n",
       "      <td>0.000000</td>\n",
       "      <td>0.000000</td>\n",
       "      <td>0.000000</td>\n",
       "      <td>0.0</td>\n",
       "      <td>0.0</td>\n",
       "    </tr>\n",
       "    <tr>\n",
       "      <th>are</th>\n",
       "      <td>0.000000</td>\n",
       "      <td>0.000000</td>\n",
       "      <td>0.0</td>\n",
       "      <td>0.0</td>\n",
       "      <td>0.000000</td>\n",
       "      <td>0.0</td>\n",
       "      <td>0.000000</td>\n",
       "      <td>0.000000</td>\n",
       "      <td>0.0</td>\n",
       "      <td>0.0</td>\n",
       "      <td>...</td>\n",
       "      <td>0.000000</td>\n",
       "      <td>0.0</td>\n",
       "      <td>0.0</td>\n",
       "      <td>0.000000</td>\n",
       "      <td>0.000000</td>\n",
       "      <td>0.000000</td>\n",
       "      <td>0.000000</td>\n",
       "      <td>0.000000</td>\n",
       "      <td>0.0</td>\n",
       "      <td>0.0</td>\n",
       "    </tr>\n",
       "    <tr>\n",
       "      <th>be</th>\n",
       "      <td>0.000000</td>\n",
       "      <td>0.000000</td>\n",
       "      <td>0.0</td>\n",
       "      <td>0.0</td>\n",
       "      <td>0.000000</td>\n",
       "      <td>0.0</td>\n",
       "      <td>0.000000</td>\n",
       "      <td>3.124565</td>\n",
       "      <td>0.0</td>\n",
       "      <td>0.0</td>\n",
       "      <td>...</td>\n",
       "      <td>0.000000</td>\n",
       "      <td>0.0</td>\n",
       "      <td>0.0</td>\n",
       "      <td>0.000000</td>\n",
       "      <td>0.000000</td>\n",
       "      <td>3.124565</td>\n",
       "      <td>0.000000</td>\n",
       "      <td>0.000000</td>\n",
       "      <td>0.0</td>\n",
       "      <td>0.0</td>\n",
       "    </tr>\n",
       "    <tr>\n",
       "      <th>...</th>\n",
       "      <td>...</td>\n",
       "      <td>...</td>\n",
       "      <td>...</td>\n",
       "      <td>...</td>\n",
       "      <td>...</td>\n",
       "      <td>...</td>\n",
       "      <td>...</td>\n",
       "      <td>...</td>\n",
       "      <td>...</td>\n",
       "      <td>...</td>\n",
       "      <td>...</td>\n",
       "      <td>...</td>\n",
       "      <td>...</td>\n",
       "      <td>...</td>\n",
       "      <td>...</td>\n",
       "      <td>...</td>\n",
       "      <td>...</td>\n",
       "      <td>...</td>\n",
       "      <td>...</td>\n",
       "      <td>...</td>\n",
       "      <td>...</td>\n",
       "    </tr>\n",
       "    <tr>\n",
       "      <th>was</th>\n",
       "      <td>0.000000</td>\n",
       "      <td>0.000000</td>\n",
       "      <td>0.0</td>\n",
       "      <td>0.0</td>\n",
       "      <td>3.124565</td>\n",
       "      <td>0.0</td>\n",
       "      <td>0.000000</td>\n",
       "      <td>0.000000</td>\n",
       "      <td>0.0</td>\n",
       "      <td>0.0</td>\n",
       "      <td>...</td>\n",
       "      <td>0.000000</td>\n",
       "      <td>0.0</td>\n",
       "      <td>0.0</td>\n",
       "      <td>0.000000</td>\n",
       "      <td>3.124565</td>\n",
       "      <td>0.000000</td>\n",
       "      <td>0.000000</td>\n",
       "      <td>0.000000</td>\n",
       "      <td>0.0</td>\n",
       "      <td>0.0</td>\n",
       "    </tr>\n",
       "    <tr>\n",
       "      <th>way</th>\n",
       "      <td>3.124565</td>\n",
       "      <td>0.000000</td>\n",
       "      <td>0.0</td>\n",
       "      <td>0.0</td>\n",
       "      <td>0.000000</td>\n",
       "      <td>0.0</td>\n",
       "      <td>0.000000</td>\n",
       "      <td>0.000000</td>\n",
       "      <td>0.0</td>\n",
       "      <td>0.0</td>\n",
       "      <td>...</td>\n",
       "      <td>0.000000</td>\n",
       "      <td>0.0</td>\n",
       "      <td>0.0</td>\n",
       "      <td>0.000000</td>\n",
       "      <td>0.000000</td>\n",
       "      <td>0.000000</td>\n",
       "      <td>0.000000</td>\n",
       "      <td>0.000000</td>\n",
       "      <td>0.0</td>\n",
       "      <td>0.0</td>\n",
       "    </tr>\n",
       "    <tr>\n",
       "      <th>we</th>\n",
       "      <td>0.000000</td>\n",
       "      <td>3.124565</td>\n",
       "      <td>0.0</td>\n",
       "      <td>0.0</td>\n",
       "      <td>0.000000</td>\n",
       "      <td>0.0</td>\n",
       "      <td>3.124565</td>\n",
       "      <td>0.000000</td>\n",
       "      <td>0.0</td>\n",
       "      <td>0.0</td>\n",
       "      <td>...</td>\n",
       "      <td>0.000000</td>\n",
       "      <td>0.0</td>\n",
       "      <td>0.0</td>\n",
       "      <td>0.000000</td>\n",
       "      <td>0.000000</td>\n",
       "      <td>0.000000</td>\n",
       "      <td>0.000000</td>\n",
       "      <td>0.000000</td>\n",
       "      <td>0.0</td>\n",
       "      <td>0.0</td>\n",
       "    </tr>\n",
       "    <tr>\n",
       "      <th>with</th>\n",
       "      <td>0.000000</td>\n",
       "      <td>0.000000</td>\n",
       "      <td>0.0</td>\n",
       "      <td>0.0</td>\n",
       "      <td>0.000000</td>\n",
       "      <td>0.0</td>\n",
       "      <td>0.000000</td>\n",
       "      <td>0.000000</td>\n",
       "      <td>0.0</td>\n",
       "      <td>0.0</td>\n",
       "      <td>...</td>\n",
       "      <td>1.738271</td>\n",
       "      <td>0.0</td>\n",
       "      <td>0.0</td>\n",
       "      <td>0.000000</td>\n",
       "      <td>0.000000</td>\n",
       "      <td>0.000000</td>\n",
       "      <td>0.000000</td>\n",
       "      <td>0.000000</td>\n",
       "      <td>0.0</td>\n",
       "      <td>0.0</td>\n",
       "    </tr>\n",
       "    <tr>\n",
       "      <th>wow</th>\n",
       "      <td>0.000000</td>\n",
       "      <td>0.000000</td>\n",
       "      <td>0.0</td>\n",
       "      <td>0.0</td>\n",
       "      <td>0.000000</td>\n",
       "      <td>0.0</td>\n",
       "      <td>0.000000</td>\n",
       "      <td>0.000000</td>\n",
       "      <td>0.0</td>\n",
       "      <td>0.0</td>\n",
       "      <td>...</td>\n",
       "      <td>0.000000</td>\n",
       "      <td>0.0</td>\n",
       "      <td>0.0</td>\n",
       "      <td>0.000000</td>\n",
       "      <td>0.000000</td>\n",
       "      <td>0.000000</td>\n",
       "      <td>0.000000</td>\n",
       "      <td>0.000000</td>\n",
       "      <td>0.0</td>\n",
       "      <td>0.0</td>\n",
       "    </tr>\n",
       "  </tbody>\n",
       "</table>\n",
       "<p>67 rows × 67 columns</p>\n",
       "</div>"
      ],
      "text/plain": [
       "              a     about  and  are        be  but      care   careful  \\\n",
       "a      0.000000  0.000000  0.0  0.0  0.000000  0.0  0.000000  0.000000   \n",
       "about  0.000000  0.000000  0.0  0.0  0.000000  0.0  3.124565  0.000000   \n",
       "and    0.000000  0.000000  0.0  0.0  0.000000  0.0  0.000000  0.000000   \n",
       "are    0.000000  0.000000  0.0  0.0  0.000000  0.0  0.000000  0.000000   \n",
       "be     0.000000  0.000000  0.0  0.0  0.000000  0.0  0.000000  3.124565   \n",
       "...         ...       ...  ...  ...       ...  ...       ...       ...   \n",
       "was    0.000000  0.000000  0.0  0.0  3.124565  0.0  0.000000  0.000000   \n",
       "way    3.124565  0.000000  0.0  0.0  0.000000  0.0  0.000000  0.000000   \n",
       "we     0.000000  3.124565  0.0  0.0  0.000000  0.0  3.124565  0.000000   \n",
       "with   0.000000  0.000000  0.0  0.0  0.000000  0.0  0.000000  0.000000   \n",
       "wow    0.000000  0.000000  0.0  0.0  0.000000  0.0  0.000000  0.000000   \n",
       "\n",
       "       certain  conservatives  ...        to  unhappy   us    values  \\\n",
       "a          0.0            0.0  ...  0.000000      0.0  0.0  0.000000   \n",
       "about      0.0            0.0  ...  1.738271      0.0  0.0  0.000000   \n",
       "and        0.0            0.0  ...  0.000000      0.0  0.0  2.431418   \n",
       "are        0.0            0.0  ...  0.000000      0.0  0.0  0.000000   \n",
       "be         0.0            0.0  ...  0.000000      0.0  0.0  0.000000   \n",
       "...        ...            ...  ...       ...      ...  ...       ...   \n",
       "was        0.0            0.0  ...  0.000000      0.0  0.0  0.000000   \n",
       "way        0.0            0.0  ...  0.000000      0.0  0.0  0.000000   \n",
       "we         0.0            0.0  ...  0.000000      0.0  0.0  0.000000   \n",
       "with       0.0            0.0  ...  1.738271      0.0  0.0  0.000000   \n",
       "wow        0.0            0.0  ...  0.000000      0.0  0.0  0.000000   \n",
       "\n",
       "       venomous       was       way        we  with  wow  \n",
       "a      0.000000  0.000000  3.124565  0.000000   0.0  0.0  \n",
       "about  0.000000  0.000000  0.000000  3.124565   0.0  0.0  \n",
       "and    0.000000  0.000000  0.000000  0.000000   0.0  0.0  \n",
       "are    0.000000  0.000000  0.000000  0.000000   0.0  0.0  \n",
       "be     0.000000  3.124565  0.000000  0.000000   0.0  0.0  \n",
       "...         ...       ...       ...       ...   ...  ...  \n",
       "was    3.124565  0.000000  0.000000  0.000000   0.0  0.0  \n",
       "way    0.000000  0.000000  0.000000  0.000000   0.0  0.0  \n",
       "we     0.000000  0.000000  0.000000  0.000000   0.0  0.0  \n",
       "with   0.000000  0.000000  0.000000  0.000000   0.0  0.0  \n",
       "wow    0.000000  0.000000  0.000000  0.000000   0.0  0.0  \n",
       "\n",
       "[67 rows x 67 columns]"
      ]
     },
     "execution_count": 33,
     "metadata": {},
     "output_type": "execute_result"
    }
   ],
   "source": [
    "ppmi"
   ]
  },
  {
   "cell_type": "markdown",
   "id": "b78119a8",
   "metadata": {},
   "source": [
    "### Discuta ventajas y desventajas de PPMI respecto a TF-IDF"
   ]
  },
  {
   "cell_type": "markdown",
   "id": "e922232e",
   "metadata": {},
   "source": [
    "#### Ventajas \n",
    "\n",
    "- PPMI captura mejor las relaciones semánticas entre palabras al considerar la co-ocurrencia en un contexto más amplio.\n",
    "- PPMI puede resaltar términos que son informativos en contextos específicos dada la frecuencia de co-ocurrencia.\n",
    "- PPMI es menos sensible a la frecuencia de documentos y más a la estructura de co-ocurrencia, lo que puede ser beneficioso en ciertos análisis semánticos.\n",
    "\n",
    "\n",
    "#### Desventajas\n",
    "\n",
    "- PPMI puede ser computacionalmente más costoso que TF-IDF, especialmente en grandes corpus de texto.\n",
    "- PPMI puede generar matrices dispersas y de alta dimensión, lo que puede dificultar su manejo y análisis.\n",
    "- PPMI no considera la frecuencia de los términos en el documento, lo que puede ser una limitación en ciertos contextos de recuperación de información."
   ]
  },
  {
   "cell_type": "markdown",
   "id": "ad60a60f",
   "metadata": {},
   "source": [
    "## Construcción de representación Word2Vec"
   ]
  },
  {
   "cell_type": "code",
   "execution_count": 34,
   "id": "c0290a04",
   "metadata": {},
   "outputs": [],
   "source": [
    "w2v = Word2Vec(\n",
    "    sentences=tokens,\n",
    "    vector_size=100,\n",
    "    window=5,\n",
    "    min_count=1,\n",
    "    workers=4\n",
    ")"
   ]
  },
  {
   "cell_type": "code",
   "execution_count": 35,
   "id": "8cc2fb25",
   "metadata": {},
   "outputs": [],
   "source": [
    "wv = w2v.wv"
   ]
  },
  {
   "cell_type": "markdown",
   "id": "540515ee",
   "metadata": {},
   "source": [
    "### Palabras más cercanas y lejanas en el espacio vectorial"
   ]
  },
  {
   "cell_type": "code",
   "execution_count": 36,
   "id": "8edfa549",
   "metadata": {},
   "outputs": [],
   "source": [
    "def most_similar_words(word, topn=10):\n",
    "    if word not in wv:\n",
    "        return []\n",
    "    return wv.most_similar(word, topn=topn)"
   ]
  },
  {
   "cell_type": "code",
   "execution_count": 37,
   "id": "8e29d24a",
   "metadata": {},
   "outputs": [],
   "source": [
    "def least_similar_words(word, topn=10, search_top_k=5000):\n",
    "    if word not in wv:\n",
    "        return []\n",
    "    vocab = list(wv.key_to_index.keys())[:search_top_k]\n",
    "    v = wv[word] / np.linalg.norm(wv[word])\n",
    "    sims = []\n",
    "    for w in vocab:\n",
    "        if w == word: \n",
    "            continue\n",
    "        u = wv[w] / np.linalg.norm(wv[w])\n",
    "        sims.append((w, float(np.dot(v, u))))\n",
    "    sims.sort(key=lambda x: x[1])\n",
    "    return sims[:topn]"
   ]
  },
  {
   "cell_type": "code",
   "execution_count": 38,
   "id": "d15a46e7",
   "metadata": {},
   "outputs": [
    {
     "name": "stdout",
     "output_type": "stream",
     "text": [
      "\n",
      "Más cercanas a 'car':\n",
      "  price            0.853\n",
      "  engine           0.841\n",
      "  driver           0.833\n",
      "  little           0.822\n",
      "  delorean         0.819\n",
      "  dealership       0.815\n",
      "  oil              0.815\n",
      "  post             0.814\n",
      "\n",
      "Más lejanas a 'car':\n",
      "  turkish          -0.179\n",
      "  by               -0.173\n",
      "  armenian         -0.162\n",
      "  muslim           -0.129\n",
      "  against          -0.119\n",
      "  kurdish          -0.089\n",
      "  exterminate      -0.086\n",
      "  reparations      -0.069\n",
      "\n",
      "Más cercanas a 'government':\n",
      "  force            0.855\n",
      "  citizens         0.855\n",
      "  israel           0.853\n",
      "  serbians         0.837\n",
      "  irish            0.834\n",
      "  society          0.825\n",
      "  federal          0.825\n",
      "  land             0.822\n",
      "\n",
      "Más lejanas a 'government':\n",
      "  my               -0.105\n",
      "  edt              0.014\n",
      "  her              0.032\n",
      "  am               0.035\n",
      "  sadikov          0.044\n",
      "  briefing         0.047\n",
      "  ago              0.050\n",
      "  v                0.065\n",
      "\n",
      "Más cercanas a 'gun':\n",
      "  crime            0.848\n",
      "  laws             0.846\n",
      "  choice           0.840\n",
      "  public           0.837\n",
      "  system           0.832\n",
      "  control          0.831\n",
      "  private          0.829\n",
      "  necessary        0.828\n",
      "\n",
      "Más lejanas a 'gun':\n",
      "  sadikov          -0.049\n",
      "  rasulov          -0.011\n",
      "  his              -0.001\n",
      "  edt              0.022\n",
      "  said             0.022\n",
      "  her              0.026\n",
      "  was              0.041\n",
      "  told             0.049\n",
      "\n",
      "Más cercanas a 'israel':\n",
      "  citizens         0.870\n",
      "  government       0.853\n",
      "  arabs            0.841\n",
      "  palestinians     0.831\n",
      "  peace            0.822\n",
      "  discriminate     0.813\n",
      "  weapons          0.810\n",
      "  force            0.809\n",
      "\n",
      "Más lejanas a 'israel':\n",
      "  edt              -0.069\n",
      "  wallet           0.012\n",
      "  v                0.027\n",
      "  at               0.042\n",
      "  into             0.062\n",
      "  tells            0.070\n",
      "  sadikov          0.082\n",
      "  adamdasharvardedu  0.087\n",
      "\n",
      "Más cercanas a 'ford':\n",
      "  tires            0.965\n",
      "  saturn           0.963\n",
      "  reliability      0.960\n",
      "  transmission     0.958\n",
      "  tbird            0.955\n",
      "  alarm            0.952\n",
      "  toyota           0.951\n",
      "  cop              0.950\n",
      "\n",
      "Más lejanas a 'ford':\n",
      "  are              0.174\n",
      "  turkish          0.185\n",
      "  were             0.194\n",
      "  against          0.211\n",
      "  armenian         0.217\n",
      "  armenians        0.232\n",
      "  will             0.243\n",
      "  by               0.253\n"
     ]
    }
   ],
   "source": [
    "for w in [\"car\", \"government\", \"gun\", \"israel\", \"ford\"]:\n",
    "        print(f\"\\nMás cercanas a '{w}':\")\n",
    "        for t, s in most_similar_words(w, topn=8):\n",
    "            print(f\"  {t:15s}  {s:.3f}\")\n",
    "        print(f\"\\nMás lejanas a '{w}':\")\n",
    "        for t, s in least_similar_words(w, topn=8, search_top_k=5000):\n",
    "            print(f\"  {t:15s}  {s:.3f}\")"
   ]
  },
  {
   "cell_type": "markdown",
   "id": "dcaf2292",
   "metadata": {},
   "source": [
    "### Diferencias con TF-IDF y PPMI"
   ]
  },
  {
   "cell_type": "markdown",
   "id": "a4a02c10",
   "metadata": {},
   "source": [
    "#### Word2Vec vs TF-IDF\n",
    "\n",
    "**Word2Vec** como vimos en clase, aprende vectores densos y continuos que capturan la semántica por contexto. Dos palabras sin superposición léxica pueden quedar cerca `car` y `automobile`.\n",
    "\n",
    "**TF-IDF** es disperso y léxico: mide importancia de términos por documento, no entiende sinónimos ni contexto.\n",
    "\n",
    "#### Word2Vec vs PPMI\n",
    "\n",
    "**PPMI** ya capta asociación estadística de co-ocurrencias, pero en una matriz enorme |V|×|V| y sin aprendizaje paramétrico.\n",
    "\n",
    "**Word2Vec** puede verse como una compresión no lineal de co-ocurrencias que produce embeddings compactos y generalizables."
   ]
  },
  {
   "cell_type": "markdown",
   "id": "ac655ff4",
   "metadata": {},
   "source": [
    "## Evaluación comparativa"
   ]
  },
  {
   "cell_type": "code",
   "execution_count": 39,
   "id": "f4b416e8",
   "metadata": {},
   "outputs": [],
   "source": [
    "y = dataset.target\n",
    "target_names = dataset.target_names"
   ]
  },
  {
   "cell_type": "code",
   "execution_count": 40,
   "id": "ace59da9",
   "metadata": {},
   "outputs": [],
   "source": [
    "X_train_txt, X_test_txt, y_train, y_test = train_test_split(\n",
    "    corpus_preprocessed, y, test_size=0.2, random_state=327, stratify=y\n",
    ")"
   ]
  },
  {
   "cell_type": "markdown",
   "id": "8d53e505",
   "metadata": {},
   "source": [
    "#### TF-IDF"
   ]
  },
  {
   "cell_type": "code",
   "execution_count": 41,
   "id": "28290c7e",
   "metadata": {},
   "outputs": [
    {
     "name": "stdout",
     "output_type": "stream",
     "text": [
      "TF-IDF accuracy: 0.7939\n"
     ]
    }
   ],
   "source": [
    "X_train_tfidf = vectorizer.fit_transform(X_train_txt)\n",
    "X_test_tfidf  = vectorizer.transform(X_test_txt)\n",
    "\n",
    "clf_tfidf = LogisticRegression(max_iter=1000, n_jobs=None)\n",
    "clf_tfidf.fit(X_train_tfidf, y_train)\n",
    "pred_tfidf = clf_tfidf.predict(X_test_tfidf)\n",
    "acc_tfidf = accuracy_score(y_test, pred_tfidf)\n",
    "print(f\"TF-IDF accuracy: {acc_tfidf:.4f}\")"
   ]
  },
  {
   "cell_type": "markdown",
   "id": "3641255d",
   "metadata": {},
   "source": [
    "#### PPMI"
   ]
  },
  {
   "cell_type": "code",
   "execution_count": 42,
   "id": "9cddcd00",
   "metadata": {},
   "outputs": [],
   "source": [
    "def docs_from_word_matrix(word_matrix: pd.DataFrame, docs_tokens):\n",
    "    idx = word_matrix.index\n",
    "    word2row = {w:i for i,w in enumerate(idx)}\n",
    "    W = word_matrix.values\n",
    "    D = []\n",
    "    for toks in docs_tokens:\n",
    "        rows = [word2row[w] for w in toks if w in word2row]\n",
    "        if rows:\n",
    "            D.append(W[rows].mean(axis=0))\n",
    "        else:\n",
    "            D.append(np.zeros(W.shape[1], dtype=np.float32))\n",
    "    return np.vstack(D)"
   ]
  },
  {
   "cell_type": "code",
   "execution_count": 43,
   "id": "9993a734",
   "metadata": {},
   "outputs": [],
   "source": [
    "ppmi_cooc = co_occurrence_df(X_train_txt, window_size=2, top_k=800)\n",
    "ppmi_mat = to_ppmi(ppmi_cooc)"
   ]
  },
  {
   "cell_type": "code",
   "execution_count": 44,
   "id": "d039e458",
   "metadata": {},
   "outputs": [],
   "source": [
    "X_train_toks = [s.split() for s in X_train_txt]\n",
    "X_test_toks  = [s.split() for s in X_test_txt]"
   ]
  },
  {
   "cell_type": "code",
   "execution_count": 45,
   "id": "dcc88225",
   "metadata": {},
   "outputs": [
    {
     "name": "stdout",
     "output_type": "stream",
     "text": [
      "PPMI (avg word vectors) accuracy: 0.7012\n"
     ]
    }
   ],
   "source": [
    "X_train_ppmi = docs_from_word_matrix(ppmi_mat, X_train_toks)\n",
    "X_test_ppmi  = docs_from_word_matrix(ppmi_mat, X_test_toks)\n",
    "\n",
    "clf_ppmi = LogisticRegression(max_iter=1000)\n",
    "clf_ppmi.fit(X_train_ppmi, y_train)\n",
    "pred_ppmi = clf_ppmi.predict(X_test_ppmi)\n",
    "acc_ppmi = accuracy_score(y_test, pred_ppmi)\n",
    "print(f\"PPMI (avg word vectors) accuracy: {acc_ppmi:.4f}\")"
   ]
  },
  {
   "cell_type": "markdown",
   "id": "725af1d6",
   "metadata": {},
   "source": [
    "#### Word2Vec"
   ]
  },
  {
   "cell_type": "code",
   "execution_count": 46,
   "id": "781f22bb",
   "metadata": {},
   "outputs": [],
   "source": [
    "tokens_train = [s.split() for s in X_train_txt]\n",
    "w2v_cls = Word2Vec(\n",
    "    sentences=tokens_train,\n",
    "    vector_size=100, window=5,\n",
    "    min_count=2, sg=1, epochs=10, workers=4\n",
    ")\n",
    "wv_cls = w2v_cls.wv"
   ]
  },
  {
   "cell_type": "code",
   "execution_count": 47,
   "id": "1468b9d3",
   "metadata": {},
   "outputs": [],
   "source": [
    "def doc_avg_w2v(tokens, wv):\n",
    "    vecs = [wv[w] for w in tokens if w in wv]\n",
    "    if vecs:\n",
    "        return np.mean(vecs, axis=0)\n",
    "    return np.zeros(wv.vector_size, dtype=np.float32)"
   ]
  },
  {
   "cell_type": "code",
   "execution_count": 48,
   "id": "dcf26898",
   "metadata": {},
   "outputs": [],
   "source": [
    "X_train_w2v = np.vstack([doc_avg_w2v(t, wv_cls) for t in tokens_train])\n",
    "X_test_w2v  = np.vstack([doc_avg_w2v(s.split(), wv_cls) for s in X_test_txt])"
   ]
  },
  {
   "cell_type": "code",
   "execution_count": 49,
   "id": "f309f3b0",
   "metadata": {},
   "outputs": [
    {
     "name": "stdout",
     "output_type": "stream",
     "text": [
      "Word2Vec (avg word vectors) accuracy: 0.7607\n"
     ]
    }
   ],
   "source": [
    "clf_w2v = LogisticRegression(max_iter=1000)\n",
    "clf_w2v.fit(X_train_w2v, y_train)\n",
    "pred_w2v = clf_w2v.predict(X_test_w2v)\n",
    "acc_w2v = accuracy_score(y_test, pred_w2v)\n",
    "print(f\"Word2Vec (avg word vectors) accuracy: {acc_w2v:.4f}\")"
   ]
  },
  {
   "cell_type": "markdown",
   "id": "c9ee0c8f",
   "metadata": {},
   "source": [
    "### Tabla comparativa"
   ]
  },
  {
   "cell_type": "code",
   "execution_count": 50,
   "id": "290b48f1",
   "metadata": {},
   "outputs": [
    {
     "data": {
      "text/html": [
       "<div>\n",
       "<style scoped>\n",
       "    .dataframe tbody tr th:only-of-type {\n",
       "        vertical-align: middle;\n",
       "    }\n",
       "\n",
       "    .dataframe tbody tr th {\n",
       "        vertical-align: top;\n",
       "    }\n",
       "\n",
       "    .dataframe thead th {\n",
       "        text-align: right;\n",
       "    }\n",
       "</style>\n",
       "<table border=\"1\" class=\"dataframe\">\n",
       "  <thead>\n",
       "    <tr style=\"text-align: right;\">\n",
       "      <th></th>\n",
       "      <th>Representación</th>\n",
       "      <th>Precisión</th>\n",
       "    </tr>\n",
       "  </thead>\n",
       "  <tbody>\n",
       "    <tr>\n",
       "      <th>0</th>\n",
       "      <td>TF-IDF</td>\n",
       "      <td>0.793914</td>\n",
       "    </tr>\n",
       "    <tr>\n",
       "      <th>1</th>\n",
       "      <td>PPMI</td>\n",
       "      <td>0.701245</td>\n",
       "    </tr>\n",
       "    <tr>\n",
       "      <th>2</th>\n",
       "      <td>Word2Vec</td>\n",
       "      <td>0.760719</td>\n",
       "    </tr>\n",
       "  </tbody>\n",
       "</table>\n",
       "</div>"
      ],
      "text/plain": [
       "  Representación  Precisión\n",
       "0         TF-IDF   0.793914\n",
       "1           PPMI   0.701245\n",
       "2       Word2Vec   0.760719"
      ]
     },
     "execution_count": 50,
     "metadata": {},
     "output_type": "execute_result"
    }
   ],
   "source": [
    "results = pd.DataFrame({\n",
    "    \"Representación\": [\"TF-IDF\", \"PPMI\", \"Word2Vec\"],\n",
    "    \"Precisión\": [acc_tfidf, acc_ppmi, acc_w2v]\n",
    "})\n",
    "results"
   ]
  },
  {
   "cell_type": "markdown",
   "id": "cec39339",
   "metadata": {},
   "source": [
    "Con base en los resultados obtenidos, se observa que **TF-IDF** alcanzó la mayor precisión **(79.39%)**, lo cual es consistente con su fortaleza en tareas de clasificación de documentos. Por otro lado, **Word2Vec** obtuvo un **76.07%**, mostrando que los embeddings capturan relaciones semánticas útiles, pero al promediar los vectores de palabras se pierde parte de la estructura contextual. Finalmente, **PPMI** alcanzó un **70.12%**, ya que si bien resalta asociaciones de co-ocurrencia entre palabras, su alta dimensionalidad y dispersión reducen su efectividad práctica en clasificación."
   ]
  },
  {
   "cell_type": "markdown",
   "id": "91c80749",
   "metadata": {},
   "source": [
    "## Discusión final"
   ]
  },
  {
   "cell_type": "markdown",
   "id": "8bfadb9e",
   "metadata": {},
   "source": [
    "### Cómo cada representación captura (o no) relaciones semánticas."
   ]
  },
  {
   "cell_type": "markdown",
   "id": "924128bf",
   "metadata": {},
   "source": [
    "**TF-IDF** como se pudo ver en todo el laboratorio se basa solo en la frecuencia de términos  no captura relaciones semánticas. **PPMI**, en cambio, sí tiene cierta semántica al resaltar asociaciones entre palabras que tienden a aparecer en contextos similares, lo que permite identificar relaciones de co-ocurrencia significativas. Y sobre todo **Word2Vec**  aprende representaciones densas y continuas donde palabras con contextos parecidos ocupan posiciones cercanas en el espacio vectorial, lo que le permite capturar sinónimos, analogías y similitud semántica de forma más natural que los otros dos enfoques."
   ]
  },
  {
   "cell_type": "markdown",
   "id": "7bda60be",
   "metadata": {},
   "source": [
    "### Escenarios donde cada técnica es más útil"
   ]
  },
  {
   "cell_type": "markdown",
   "id": "dbee6170",
   "metadata": {},
   "source": [
    "**TF-IDF** resulta muy útil en tareas de clasificación de documentos y recuperación de información, donde lo importante es identificar términos relevantes. **PPMI** se ajusta mejor a estudios semánticos, ya que su matriz muestra las asociaciones entre palabras y permite explorar patrones de co-ocurrencia. **Word2Vec** es ideal para tareas que requieren capturar similitud y relaciones semánticas profundas, como búsqueda semántica, detección de sinónimos, análisis de sentimientos.\n"
   ]
  },
  {
   "cell_type": "markdown",
   "id": "011474f0",
   "metadata": {},
   "source": [
    "### Limitaciones prácticas (memoria, tiempo de cómputo, interpretabilidad)"
   ]
  },
  {
   "cell_type": "markdown",
   "id": "97e4976e",
   "metadata": {},
   "source": [
    "**TF-IDF** es eficiente y fácil de interpretar, pero genera vectores dispersos de alta dimensión y carece de semántica. **PPMI** como se puede ver en los tiempos de ejecución, presenta el mayor reto práctico: la matriz de co-ocurrencias es de tamaño |V|×|V| (donde |V| es el vocabulario), lo que puede volverse costoso en corpus grandes. **Word2Vec**, aunque produce embeddings densos y compactos, requiere más tiempo de entrenamiento y ajustes de hiperparámetros, y sus representaciones no son directamente interpretables, lo que dificulta explicar por qué dos palabras aparecen cercanas en el espacio vectorial."
   ]
  }
 ],
 "metadata": {
  "kernelspec": {
   "display_name": ".venv",
   "language": "python",
   "name": "python3"
  },
  "language_info": {
   "codemirror_mode": {
    "name": "ipython",
    "version": 3
   },
   "file_extension": ".py",
   "mimetype": "text/x-python",
   "name": "python",
   "nbconvert_exporter": "python",
   "pygments_lexer": "ipython3",
   "version": "3.9.0"
  }
 },
 "nbformat": 4,
 "nbformat_minor": 5
}
